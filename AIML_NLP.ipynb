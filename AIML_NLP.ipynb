{
 "cells": [
  {
   "cell_type": "code",
   "execution_count": 1,
   "metadata": {
    "colab": {},
    "colab_type": "code",
    "id": "pb_ofFEK27A6"
   },
   "outputs": [],
   "source": [
    "# pip install pyforest"
   ]
  },
  {
   "cell_type": "code",
   "execution_count": 2,
   "metadata": {
    "colab": {},
    "colab_type": "code",
    "id": "dPTNOUAxOpCz"
   },
   "outputs": [],
   "source": [
    "import pyforest"
   ]
  },
  {
   "cell_type": "code",
   "execution_count": 3,
   "metadata": {},
   "outputs": [],
   "source": [
    "%matplotlib inline "
   ]
  },
  {
   "cell_type": "code",
   "execution_count": 4,
   "metadata": {
    "colab": {},
    "colab_type": "code",
    "id": "xU1HiEjjV_5N"
   },
   "outputs": [
    {
     "data": {
      "text/plain": [
       "\"import matplotlib\\n# matplotlib.use('Agg')\\nimport numpy as np\\nimport pandas as pd\""
      ]
     },
     "execution_count": 4,
     "metadata": {},
     "output_type": "execute_result"
    }
   ],
   "source": [
    "'''import matplotlib\n",
    "# matplotlib.use('Agg')\n",
    "import numpy as np\n",
    "import pandas as pd'''"
   ]
  },
  {
   "cell_type": "code",
   "execution_count": 5,
   "metadata": {
    "colab": {
     "base_uri": "https://localhost:8080/",
     "height": 55
    },
    "colab_type": "code",
    "id": "73sWBNtuUSeP",
    "outputId": "ce0c7015-232b-4a6c-c272-45254c083f2e"
   },
   "outputs": [
    {
     "data": {
      "text/plain": [
       "\"import os\\nimport matplotlib as mpl\\nif os.environ.get('DISPLAY','') == '':\\n    print('no display found. Using non-interactive Agg backend')\\n    mpl.use('Agg')\\nimport matplotlib.pyplot as plt\""
      ]
     },
     "execution_count": 5,
     "metadata": {},
     "output_type": "execute_result"
    }
   ],
   "source": [
    "'''import os\n",
    "import matplotlib as mpl\n",
    "if os.environ.get('DISPLAY','') == '':\n",
    "    print('no display found. Using non-interactive Agg backend')\n",
    "    mpl.use('Agg')\n",
    "import matplotlib.pyplot as plt'''"
   ]
  },
  {
   "cell_type": "markdown",
   "metadata": {
    "colab_type": "text",
    "id": "euYhtGv_304B"
   },
   "source": [
    "#  Applied Statistics"
   ]
  },
  {
   "cell_type": "code",
   "execution_count": 6,
   "metadata": {
    "colab": {
     "base_uri": "https://localhost:8080/",
     "height": 206
    },
    "colab_type": "code",
    "id": "nxUXI0Ke25WS",
    "outputId": "a7e69cf1-d655-433b-c75b-edd15d4a0806"
   },
   "outputs": [
    {
     "data": {
      "application/javascript": [
       "\n",
       "        if (window._pyforest_update_imports_cell) { window._pyforest_update_imports_cell('import pandas as pd'); }\n",
       "    "
      ],
      "text/plain": [
       "<IPython.core.display.Javascript object>"
      ]
     },
     "metadata": {},
     "output_type": "display_data"
    },
    {
     "data": {
      "text/html": [
       "<div>\n",
       "<style scoped>\n",
       "    .dataframe tbody tr th:only-of-type {\n",
       "        vertical-align: middle;\n",
       "    }\n",
       "\n",
       "    .dataframe tbody tr th {\n",
       "        vertical-align: top;\n",
       "    }\n",
       "\n",
       "    .dataframe thead th {\n",
       "        text-align: right;\n",
       "    }\n",
       "</style>\n",
       "<table border=\"1\" class=\"dataframe\">\n",
       "  <thead>\n",
       "    <tr style=\"text-align: right;\">\n",
       "      <th></th>\n",
       "      <th>Emp#</th>\n",
       "      <th>YearsOfExp</th>\n",
       "      <th>Salary in Rs.</th>\n",
       "    </tr>\n",
       "  </thead>\n",
       "  <tbody>\n",
       "    <tr>\n",
       "      <th>0</th>\n",
       "      <td>1</td>\n",
       "      <td>10</td>\n",
       "      <td>126015</td>\n",
       "    </tr>\n",
       "    <tr>\n",
       "      <th>1</th>\n",
       "      <td>2</td>\n",
       "      <td>1</td>\n",
       "      <td>12598</td>\n",
       "    </tr>\n",
       "    <tr>\n",
       "      <th>2</th>\n",
       "      <td>3</td>\n",
       "      <td>8</td>\n",
       "      <td>100639</td>\n",
       "    </tr>\n",
       "    <tr>\n",
       "      <th>3</th>\n",
       "      <td>4</td>\n",
       "      <td>10</td>\n",
       "      <td>125351</td>\n",
       "    </tr>\n",
       "    <tr>\n",
       "      <th>4</th>\n",
       "      <td>5</td>\n",
       "      <td>2</td>\n",
       "      <td>25031</td>\n",
       "    </tr>\n",
       "  </tbody>\n",
       "</table>\n",
       "</div>"
      ],
      "text/plain": [
       "   Emp#  YearsOfExp  Salary in Rs.\n",
       "0     1          10         126015\n",
       "1     2           1          12598\n",
       "2     3           8         100639\n",
       "3     4          10         125351\n",
       "4     5           2          25031"
      ]
     },
     "execution_count": 6,
     "metadata": {},
     "output_type": "execute_result"
    }
   ],
   "source": [
    "stats = pd.read_excel('stats.xlsx')\n",
    "stats.head()"
   ]
  },
  {
   "cell_type": "code",
   "execution_count": 7,
   "metadata": {
    "colab": {
     "base_uri": "https://localhost:8080/",
     "height": 90
    },
    "colab_type": "code",
    "id": "DqsW67Hk3p3V",
    "outputId": "50f1a85e-51b4-4e87-ff87-3c177cc6a96c"
   },
   "outputs": [
    {
     "data": {
      "application/javascript": [
       "\n",
       "        if (window._pyforest_update_imports_cell) { window._pyforest_update_imports_cell('import pandas as pd\\nimport numpy as np'); }\n",
       "    "
      ],
      "text/plain": [
       "<IPython.core.display.Javascript object>"
      ]
     },
     "metadata": {},
     "output_type": "display_data"
    },
    {
     "data": {
      "text/plain": [
       "Emp#                13.0\n",
       "YearsOfExp           6.2\n",
       "Salary in Rs.    77821.2\n",
       "dtype: float64"
      ]
     },
     "execution_count": 7,
     "metadata": {},
     "output_type": "execute_result"
    }
   ],
   "source": [
    "np.mean(stats)"
   ]
  },
  {
   "cell_type": "code",
   "execution_count": 8,
   "metadata": {
    "colab": {},
    "colab_type": "code",
    "id": "0yapWJazXqhP"
   },
   "outputs": [],
   "source": [
    "from scipy.stats import mode"
   ]
  },
  {
   "cell_type": "code",
   "execution_count": 9,
   "metadata": {
    "colab": {
     "base_uri": "https://localhost:8080/",
     "height": 35
    },
    "colab_type": "code",
    "id": "rcqS-uat3p_3",
    "outputId": "85359b88-1ae8-4976-ee0d-b472cc34ec25"
   },
   "outputs": [
    {
     "data": {
      "text/plain": [
       "ModeResult(mode=array([[     1,     10, 100639]], dtype=int64), count=array([[1, 5, 2]]))"
      ]
     },
     "execution_count": 9,
     "metadata": {},
     "output_type": "execute_result"
    }
   ],
   "source": [
    "mode(stats)"
   ]
  },
  {
   "cell_type": "code",
   "execution_count": 10,
   "metadata": {
    "colab": {
     "base_uri": "https://localhost:8080/",
     "height": 35
    },
    "colab_type": "code",
    "id": "iKUy7kLva8dW",
    "outputId": "1219b9cd-2e6a-4cda-d937-ae82f163eb4c"
   },
   "outputs": [
    {
     "data": {
      "text/plain": [
       "13.0"
      ]
     },
     "execution_count": 10,
     "metadata": {},
     "output_type": "execute_result"
    }
   ],
   "source": [
    "stats['Emp#'].median()"
   ]
  },
  {
   "cell_type": "code",
   "execution_count": 11,
   "metadata": {
    "colab": {
     "base_uri": "https://localhost:8080/",
     "height": 35
    },
    "colab_type": "code",
    "id": "N87nUG3na8Zn",
    "outputId": "eab15544-4a30-4ef1-ea24-1c56bc54ba5f"
   },
   "outputs": [
    {
     "data": {
      "text/plain": [
       "7.0"
      ]
     },
     "execution_count": 11,
     "metadata": {},
     "output_type": "execute_result"
    }
   ],
   "source": [
    "stats['YearsOfExp'].median()"
   ]
  },
  {
   "cell_type": "code",
   "execution_count": 12,
   "metadata": {
    "colab": {
     "base_uri": "https://localhost:8080/",
     "height": 35
    },
    "colab_type": "code",
    "id": "nsfgDSWt3qHO",
    "outputId": "7d299362-30b6-4d8d-90dc-a90eda6e22cd"
   },
   "outputs": [
    {
     "data": {
      "text/plain": [
       "87654.0"
      ]
     },
     "execution_count": 12,
     "metadata": {},
     "output_type": "execute_result"
    }
   ],
   "source": [
    "stats['Salary in Rs.'].median()"
   ]
  },
  {
   "cell_type": "code",
   "execution_count": 13,
   "metadata": {
    "colab": {
     "base_uri": "https://localhost:8080/",
     "height": 90
    },
    "colab_type": "code",
    "id": "rgF9dtWB3qb-",
    "outputId": "0ea52544-5f30-4692-9ad8-41ba7e0b9c3d"
   },
   "outputs": [
    {
     "data": {
      "application/javascript": [
       "\n",
       "        if (window._pyforest_update_imports_cell) { window._pyforest_update_imports_cell('import pandas as pd\\nimport numpy as np'); }\n",
       "    "
      ],
      "text/plain": [
       "<IPython.core.display.Javascript object>"
      ]
     },
     "metadata": {},
     "output_type": "display_data"
    },
    {
     "data": {
      "text/plain": [
       "Emp#             5.200000e+01\n",
       "YearsOfExp       9.680000e+00\n",
       "Salary in Rs.    1.524319e+09\n",
       "dtype: float64"
      ]
     },
     "execution_count": 13,
     "metadata": {},
     "output_type": "execute_result"
    }
   ],
   "source": [
    "np.var(stats)"
   ]
  },
  {
   "cell_type": "code",
   "execution_count": 14,
   "metadata": {
    "colab": {
     "base_uri": "https://localhost:8080/",
     "height": 90
    },
    "colab_type": "code",
    "id": "5kmFPlcW3qkz",
    "outputId": "e756f24f-e028-478a-c462-4c7d3610d5ba"
   },
   "outputs": [
    {
     "data": {
      "application/javascript": [
       "\n",
       "        if (window._pyforest_update_imports_cell) { window._pyforest_update_imports_cell('import pandas as pd\\nimport numpy as np'); }\n",
       "    "
      ],
      "text/plain": [
       "<IPython.core.display.Javascript object>"
      ]
     },
     "metadata": {},
     "output_type": "display_data"
    },
    {
     "data": {
      "text/plain": [
       "Emp#                 7.211103\n",
       "YearsOfExp           3.111270\n",
       "Salary in Rs.    39042.529962\n",
       "dtype: float64"
      ]
     },
     "execution_count": 14,
     "metadata": {},
     "output_type": "execute_result"
    }
   ],
   "source": [
    "np.std(stats)"
   ]
  },
  {
   "cell_type": "markdown",
   "metadata": {
    "colab_type": "text",
    "id": "113clvjMtWlC"
   },
   "source": [
    "# Natural Language Processing"
   ]
  },
  {
   "cell_type": "code",
   "execution_count": 15,
   "metadata": {
    "colab": {
     "base_uri": "https://localhost:8080/",
     "height": 206
    },
    "colab_type": "code",
    "id": "iEqSH_3d3qxZ",
    "outputId": "da9a7e85-ac34-42c9-899a-de6617054fd7"
   },
   "outputs": [
    {
     "data": {
      "application/javascript": [
       "\n",
       "        if (window._pyforest_update_imports_cell) { window._pyforest_update_imports_cell('import pandas as pd\\nimport numpy as np'); }\n",
       "    "
      ],
      "text/plain": [
       "<IPython.core.display.Javascript object>"
      ]
     },
     "metadata": {},
     "output_type": "display_data"
    },
    {
     "data": {
      "text/html": [
       "<div>\n",
       "<style scoped>\n",
       "    .dataframe tbody tr th:only-of-type {\n",
       "        vertical-align: middle;\n",
       "    }\n",
       "\n",
       "    .dataframe tbody tr th {\n",
       "        vertical-align: top;\n",
       "    }\n",
       "\n",
       "    .dataframe thead th {\n",
       "        text-align: right;\n",
       "    }\n",
       "</style>\n",
       "<table border=\"1\" class=\"dataframe\">\n",
       "  <thead>\n",
       "    <tr style=\"text-align: right;\">\n",
       "      <th></th>\n",
       "      <th>Comment</th>\n",
       "    </tr>\n",
       "  </thead>\n",
       "  <tbody>\n",
       "    <tr>\n",
       "      <th>0</th>\n",
       "      <td>\"Hello there, how are you? Weather is awesome....</td>\n",
       "    </tr>\n",
       "    <tr>\n",
       "      <th>1</th>\n",
       "      <td>\"Hello Mr. Raja, how are you? Weather is aweso...</td>\n",
       "    </tr>\n",
       "    <tr>\n",
       "      <th>2</th>\n",
       "      <td>\"Hello Mr. Raja, how are you. Weather is bad. ...</td>\n",
       "    </tr>\n",
       "    <tr>\n",
       "      <th>3</th>\n",
       "      <td>\"NLP is great technique. It is nice to learn t...</td>\n",
       "    </tr>\n",
       "    <tr>\n",
       "      <th>4</th>\n",
       "      <td>\"AI is making difference in this world now.  I...</td>\n",
       "    </tr>\n",
       "  </tbody>\n",
       "</table>\n",
       "</div>"
      ],
      "text/plain": [
       "                                             Comment\n",
       "0  \"Hello there, how are you? Weather is awesome....\n",
       "1  \"Hello Mr. Raja, how are you? Weather is aweso...\n",
       "2  \"Hello Mr. Raja, how are you. Weather is bad. ...\n",
       "3  \"NLP is great technique. It is nice to learn t...\n",
       "4  \"AI is making difference in this world now.  I..."
      ]
     },
     "execution_count": 15,
     "metadata": {},
     "output_type": "execute_result"
    }
   ],
   "source": [
    "data_in = pd.read_csv('data_in.csv')\n",
    "data_in.head()"
   ]
  },
  {
   "cell_type": "code",
   "execution_count": 16,
   "metadata": {
    "colab": {
     "base_uri": "https://localhost:8080/",
     "height": 35
    },
    "colab_type": "code",
    "id": "6wWnHG-z3q6o",
    "outputId": "5d0557d2-077e-495c-b09c-07a61df0551a"
   },
   "outputs": [
    {
     "data": {
      "text/plain": [
       "(5, 1)"
      ]
     },
     "execution_count": 16,
     "metadata": {},
     "output_type": "execute_result"
    }
   ],
   "source": [
    "data_in.shape"
   ]
  },
  {
   "cell_type": "code",
   "execution_count": 17,
   "metadata": {
    "colab": {},
    "colab_type": "code",
    "id": "tlWjqEtp3rLS"
   },
   "outputs": [],
   "source": [
    "from nltk.tokenize import sent_tokenize , word_tokenize"
   ]
  },
  {
   "cell_type": "code",
   "execution_count": 18,
   "metadata": {
    "colab": {},
    "colab_type": "code",
    "id": "Yd9dW7oZ3rXP"
   },
   "outputs": [],
   "source": [
    "import nltk"
   ]
  },
  {
   "cell_type": "code",
   "execution_count": 19,
   "metadata": {
    "colab": {
     "base_uri": "https://localhost:8080/",
     "height": 127
    },
    "colab_type": "code",
    "id": "aGy6HC8i3rj4",
    "outputId": "800e178e-9dc0-4632-868d-fbe40bfeb513"
   },
   "outputs": [
    {
     "data": {
      "text/plain": [
       "0    \"Hello there, how are you? Weather is awesome....\n",
       "1    \"Hello Mr. Raja, how are you? Weather is aweso...\n",
       "2    \"Hello Mr. Raja, how are you. Weather is bad. ...\n",
       "3    \"NLP is great technique. It is nice to learn t...\n",
       "4    \"AI is making difference in this world now.  I...\n",
       "Name: Comment, dtype: object"
      ]
     },
     "execution_count": 19,
     "metadata": {},
     "output_type": "execute_result"
    }
   ],
   "source": [
    "data_in.Comment"
   ]
  },
  {
   "cell_type": "code",
   "execution_count": 20,
   "metadata": {
    "colab": {
     "base_uri": "https://localhost:8080/",
     "height": 72
    },
    "colab_type": "code",
    "id": "cnLJxkSH8ILF",
    "outputId": "0a958d09-20c8-4a83-ba60-0896bdaee8e3"
   },
   "outputs": [
    {
     "name": "stderr",
     "output_type": "stream",
     "text": [
      "[nltk_data] Downloading package punkt to\n",
      "[nltk_data]     C:\\Users\\kmuthu2\\AppData\\Roaming\\nltk_data...\n",
      "[nltk_data]   Package punkt is already up-to-date!\n"
     ]
    },
    {
     "data": {
      "text/plain": [
       "True"
      ]
     },
     "execution_count": 20,
     "metadata": {},
     "output_type": "execute_result"
    }
   ],
   "source": [
    "\n",
    "import nltk\n",
    "nltk.download('punkt')\n",
    "  "
   ]
  },
  {
   "cell_type": "code",
   "execution_count": 21,
   "metadata": {
    "colab": {},
    "colab_type": "code",
    "id": "n_IlrhkA8kTg"
   },
   "outputs": [],
   "source": [
    "write_in_data_out = []"
   ]
  },
  {
   "cell_type": "code",
   "execution_count": 22,
   "metadata": {
    "colab": {
     "base_uri": "https://localhost:8080/",
     "height": 109
    },
    "colab_type": "code",
    "id": "rD5guJj13rsb",
    "outputId": "bd16a247-75d1-4113-8243-85797f964075"
   },
   "outputs": [
    {
     "name": "stdout",
     "output_type": "stream",
     "text": [
      "['\"Hello there, how are you?', 'Weather is awesome.', 'Its raining here now.\"']\n",
      "['\"Hello Mr. Raja, how are you?', 'Weather is awesome.', 'Its raining here now.\"']\n",
      "['\"Hello Mr. Raja, how are you.', 'Weather is bad.', 'Its heavily raining here now.\"']\n",
      "['\"NLP is great technique.', 'It is nice to learn this technique.\"']\n",
      "['\"AI is making difference in this world now.', 'It would be helpful for betterment of human life.', 'We need to make advantage of that.\"']\n"
     ]
    }
   ],
   "source": [
    "for i in data_in.Comment:\n",
    "  print(sent_tokenize(i))\n",
    "  write_in_data_out.append(sent_tokenize(i))"
   ]
  },
  {
   "cell_type": "code",
   "execution_count": 23,
   "metadata": {
    "colab": {
     "base_uri": "https://localhost:8080/",
     "height": 256
    },
    "colab_type": "code",
    "id": "Adl-ur5H3r5d",
    "outputId": "6b5c9e1d-7a38-4798-ab60-4096f161d708"
   },
   "outputs": [
    {
     "data": {
      "text/plain": [
       "[['\"Hello there, how are you?',\n",
       "  'Weather is awesome.',\n",
       "  'Its raining here now.\"'],\n",
       " ['\"Hello Mr. Raja, how are you?',\n",
       "  'Weather is awesome.',\n",
       "  'Its raining here now.\"'],\n",
       " ['\"Hello Mr. Raja, how are you.',\n",
       "  'Weather is bad.',\n",
       "  'Its heavily raining here now.\"'],\n",
       " ['\"NLP is great technique.', 'It is nice to learn this technique.\"'],\n",
       " ['\"AI is making difference in this world now.',\n",
       "  'It would be helpful for betterment of human life.',\n",
       "  'We need to make advantage of that.\"']]"
      ]
     },
     "execution_count": 23,
     "metadata": {},
     "output_type": "execute_result"
    }
   ],
   "source": [
    "write_in_data_out"
   ]
  },
  {
   "cell_type": "code",
   "execution_count": 24,
   "metadata": {
    "colab": {
     "base_uri": "https://localhost:8080/",
     "height": 55
    },
    "colab_type": "code",
    "id": "B3hCKxxB9B8T",
    "outputId": "f786947a-73c4-4da5-ee5c-55874731bdf4"
   },
   "outputs": [
    {
     "name": "stdout",
     "output_type": "stream",
     "text": [
      "['\"Hello there, how are you?', 'Weather is awesome.', 'Its raining here now.\"'] ['\"Hello Mr. Raja, how are you?', 'Weather is awesome.', 'Its raining here now.\"'] ['\"Hello Mr. Raja, how are you.', 'Weather is bad.', 'Its heavily raining here now.\"'] ['\"NLP is great technique.', 'It is nice to learn this technique.\"'] ['\"AI is making difference in this world now.', 'It would be helpful for betterment of human life.', 'We need to make advantage of that.\"']\n"
     ]
    }
   ],
   "source": [
    "print(*write_in_data_out)"
   ]
  },
  {
   "cell_type": "code",
   "execution_count": 25,
   "metadata": {
    "colab": {
     "base_uri": "https://localhost:8080/",
     "height": 201
    },
    "colab_type": "code",
    "id": "ypM5TOJL9UFi",
    "outputId": "ac97818c-eab2-4932-9e31-9f991300b230"
   },
   "outputs": [
    {
     "data": {
      "text/plain": [
       "[('\"Hello there, how are you?',\n",
       "  '\"Hello Mr. Raja, how are you?',\n",
       "  '\"Hello Mr. Raja, how are you.',\n",
       "  '\"NLP is great technique.',\n",
       "  '\"AI is making difference in this world now.'),\n",
       " ('Weather is awesome.',\n",
       "  'Weather is awesome.',\n",
       "  'Weather is bad.',\n",
       "  'It is nice to learn this technique.\"',\n",
       "  'It would be helpful for betterment of human life.')]"
      ]
     },
     "execution_count": 25,
     "metadata": {},
     "output_type": "execute_result"
    }
   ],
   "source": [
    "list(zip(*write_in_data_out))"
   ]
  },
  {
   "cell_type": "code",
   "execution_count": 26,
   "metadata": {
    "colab": {},
    "colab_type": "code",
    "id": "xPZzykeY95gp"
   },
   "outputs": [],
   "source": [
    "import itertools"
   ]
  },
  {
   "cell_type": "code",
   "execution_count": 27,
   "metadata": {
    "colab": {
     "base_uri": "https://localhost:8080/",
     "height": 274
    },
    "colab_type": "code",
    "id": "gjbFniWW95ZA",
    "outputId": "6d95b8d1-606c-4bca-f12d-b5e46cff0d01"
   },
   "outputs": [
    {
     "data": {
      "text/plain": [
       "['\"Hello there, how are you?',\n",
       " 'Weather is awesome.',\n",
       " 'Its raining here now.\"',\n",
       " '\"Hello Mr. Raja, how are you?',\n",
       " 'Weather is awesome.',\n",
       " 'Its raining here now.\"',\n",
       " '\"Hello Mr. Raja, how are you.',\n",
       " 'Weather is bad.',\n",
       " 'Its heavily raining here now.\"',\n",
       " '\"NLP is great technique.',\n",
       " 'It is nice to learn this technique.\"',\n",
       " '\"AI is making difference in this world now.',\n",
       " 'It would be helpful for betterment of human life.',\n",
       " 'We need to make advantage of that.\"']"
      ]
     },
     "execution_count": 27,
     "metadata": {},
     "output_type": "execute_result"
    }
   ],
   "source": [
    "list(itertools.chain.from_iterable(write_in_data_out))"
   ]
  },
  {
   "cell_type": "code",
   "execution_count": 28,
   "metadata": {
    "colab": {},
    "colab_type": "code",
    "id": "5738Wu4K3sG-"
   },
   "outputs": [],
   "source": [
    "f = open('data_out.csv' , 'w+')\n",
    "for sentence in list(itertools.chain.from_iterable(write_in_data_out)):\n",
    "  f.write(sentence + '\\n')\n",
    "f.close()"
   ]
  },
  {
   "cell_type": "code",
   "execution_count": 29,
   "metadata": {
    "colab": {},
    "colab_type": "code",
    "id": "Hjsjh3p63sOt"
   },
   "outputs": [
    {
     "data": {
      "application/javascript": [
       "\n",
       "        if (window._pyforest_update_imports_cell) { window._pyforest_update_imports_cell('import pandas as pd\\nimport numpy as np'); }\n",
       "    "
      ],
      "text/plain": [
       "<IPython.core.display.Javascript object>"
      ]
     },
     "metadata": {},
     "output_type": "display_data"
    }
   ],
   "source": [
    "data_out = pd.read_csv('data_out.csv' ,names= ['to'])"
   ]
  },
  {
   "cell_type": "code",
   "execution_count": 30,
   "metadata": {
    "colab": {
     "base_uri": "https://localhost:8080/",
     "height": 206
    },
    "colab_type": "code",
    "id": "iR0sJBgm3sVN",
    "outputId": "8edaf870-03fa-4cad-cf09-fcc08e2a4c55"
   },
   "outputs": [
    {
     "data": {
      "text/html": [
       "<div>\n",
       "<style scoped>\n",
       "    .dataframe tbody tr th:only-of-type {\n",
       "        vertical-align: middle;\n",
       "    }\n",
       "\n",
       "    .dataframe tbody tr th {\n",
       "        vertical-align: top;\n",
       "    }\n",
       "\n",
       "    .dataframe thead th {\n",
       "        text-align: right;\n",
       "    }\n",
       "</style>\n",
       "<table border=\"1\" class=\"dataframe\">\n",
       "  <thead>\n",
       "    <tr style=\"text-align: right;\">\n",
       "      <th></th>\n",
       "      <th>to</th>\n",
       "    </tr>\n",
       "  </thead>\n",
       "  <tbody>\n",
       "    <tr>\n",
       "      <th>0</th>\n",
       "      <td>Hello there, how are you?\\r\\nWeather is awesom...</td>\n",
       "    </tr>\n",
       "    <tr>\n",
       "      <th>1</th>\n",
       "      <td>Hello Mr. Raja, how are you?\\r\\nWeather is awe...</td>\n",
       "    </tr>\n",
       "    <tr>\n",
       "      <th>2</th>\n",
       "      <td>Hello Mr. Raja, how are you.\\r\\nWeather is bad...</td>\n",
       "    </tr>\n",
       "    <tr>\n",
       "      <th>3</th>\n",
       "      <td>NLP is great technique.\\r\\nIt is nice to learn...</td>\n",
       "    </tr>\n",
       "    <tr>\n",
       "      <th>4</th>\n",
       "      <td>AI is making difference in this world now.\\r\\n...</td>\n",
       "    </tr>\n",
       "  </tbody>\n",
       "</table>\n",
       "</div>"
      ],
      "text/plain": [
       "                                                  to\n",
       "0  Hello there, how are you?\\r\\nWeather is awesom...\n",
       "1  Hello Mr. Raja, how are you?\\r\\nWeather is awe...\n",
       "2  Hello Mr. Raja, how are you.\\r\\nWeather is bad...\n",
       "3  NLP is great technique.\\r\\nIt is nice to learn...\n",
       "4  AI is making difference in this world now.\\r\\n..."
      ]
     },
     "execution_count": 30,
     "metadata": {},
     "output_type": "execute_result"
    }
   ],
   "source": [
    "data_out.head()"
   ]
  },
  {
   "cell_type": "code",
   "execution_count": 31,
   "metadata": {
    "colab": {
     "base_uri": "https://localhost:8080/",
     "height": 127
    },
    "colab_type": "code",
    "id": "ECjB5IW63sop",
    "outputId": "0758496a-21c5-40e8-e9fd-f8b254d5888c"
   },
   "outputs": [
    {
     "data": {
      "text/plain": [
       "0    Hello there, how are you?\\r\\nWeather is awesom...\n",
       "1    Hello Mr. Raja, how are you?\\r\\nWeather is awe...\n",
       "2    Hello Mr. Raja, how are you.\\r\\nWeather is bad...\n",
       "3    NLP is great technique.\\r\\nIt is nice to learn...\n",
       "4    AI is making difference in this world now.\\r\\n...\n",
       "Name: to, dtype: object"
      ]
     },
     "execution_count": 31,
     "metadata": {},
     "output_type": "execute_result"
    }
   ],
   "source": [
    "data_out.to"
   ]
  },
  {
   "cell_type": "code",
   "execution_count": 32,
   "metadata": {
    "colab": {
     "base_uri": "https://localhost:8080/",
     "height": 206
    },
    "colab_type": "code",
    "id": "Ua576QYt3swa",
    "outputId": "17a69830-16bc-4e62-a656-3ed49a60800e"
   },
   "outputs": [
    {
     "data": {
      "text/html": [
       "<div>\n",
       "<style scoped>\n",
       "    .dataframe tbody tr th:only-of-type {\n",
       "        vertical-align: middle;\n",
       "    }\n",
       "\n",
       "    .dataframe tbody tr th {\n",
       "        vertical-align: top;\n",
       "    }\n",
       "\n",
       "    .dataframe thead th {\n",
       "        text-align: right;\n",
       "    }\n",
       "</style>\n",
       "<table border=\"1\" class=\"dataframe\">\n",
       "  <thead>\n",
       "    <tr style=\"text-align: right;\">\n",
       "      <th></th>\n",
       "      <th>Comment</th>\n",
       "    </tr>\n",
       "  </thead>\n",
       "  <tbody>\n",
       "    <tr>\n",
       "      <th>0</th>\n",
       "      <td>\"Hello there, how are you? Weather is awesome....</td>\n",
       "    </tr>\n",
       "    <tr>\n",
       "      <th>1</th>\n",
       "      <td>\"Hello Mr. Raja, how are you? Weather is aweso...</td>\n",
       "    </tr>\n",
       "    <tr>\n",
       "      <th>2</th>\n",
       "      <td>\"Hello Mr. Raja, how are you. Weather is bad. ...</td>\n",
       "    </tr>\n",
       "    <tr>\n",
       "      <th>3</th>\n",
       "      <td>\"NLP is great technique. It is nice to learn t...</td>\n",
       "    </tr>\n",
       "    <tr>\n",
       "      <th>4</th>\n",
       "      <td>\"AI is making difference in this world now.  I...</td>\n",
       "    </tr>\n",
       "  </tbody>\n",
       "</table>\n",
       "</div>"
      ],
      "text/plain": [
       "                                             Comment\n",
       "0  \"Hello there, how are you? Weather is awesome....\n",
       "1  \"Hello Mr. Raja, how are you? Weather is aweso...\n",
       "2  \"Hello Mr. Raja, how are you. Weather is bad. ...\n",
       "3  \"NLP is great technique. It is nice to learn t...\n",
       "4  \"AI is making difference in this world now.  I..."
      ]
     },
     "execution_count": 32,
     "metadata": {},
     "output_type": "execute_result"
    }
   ],
   "source": [
    "# for sentence in list(data_out.to):\n",
    "data_in"
   ]
  },
  {
   "cell_type": "code",
   "execution_count": 33,
   "metadata": {
    "colab": {
     "base_uri": "https://localhost:8080/",
     "height": 129
    },
    "colab_type": "code",
    "id": "xMmCQQDV3s1h",
    "outputId": "957d2cbb-b50a-4817-de55-07db4749eb2b"
   },
   "outputs": [
    {
     "name": "stdout",
     "output_type": "stream",
     "text": [
      "['``', 'Hello', 'there', ',', 'how', 'are', 'you', '?', 'Weather', 'is', 'awesome', '.', 'Its', 'raining', 'here', 'now', '.', \"''\"]\n",
      "['``', 'Hello', 'Mr.', 'Raja', ',', 'how', 'are', 'you', '?', 'Weather', 'is', 'awesome', '.', 'Its', 'raining', 'here', 'now', '.', \"''\"]\n",
      "['``', 'Hello', 'Mr.', 'Raja', ',', 'how', 'are', 'you', '.', 'Weather', 'is', 'bad', '.', 'Its', 'heavily', 'raining', 'here', 'now', '.', \"''\"]\n",
      "['``', 'NLP', 'is', 'great', 'technique', '.', 'It', 'is', 'nice', 'to', 'learn', 'this', 'technique', '.', \"''\"]\n",
      "['``', 'AI', 'is', 'making', 'difference', 'in', 'this', 'world', 'now', '.', 'It', 'would', 'be', 'helpful', 'for', 'betterment', 'of', 'human', 'life', '.', 'We', 'need', 'to', 'make', 'advantage', 'of', 'that', '.', \"''\"]\n"
     ]
    }
   ],
   "source": [
    "temp = list()\n",
    "for line in list(data_in.Comment):\n",
    "  print(word_tokenize(line))\n",
    "  temp.append(word_tokenize(line))"
   ]
  },
  {
   "cell_type": "code",
   "execution_count": 34,
   "metadata": {
    "colab": {
     "base_uri": "https://localhost:8080/",
     "height": 1000
    },
    "colab_type": "code",
    "id": "KTsGyKpV3suh",
    "outputId": "2655cd86-52a0-4b02-cf20-961439e5d88a"
   },
   "outputs": [
    {
     "data": {
      "text/plain": [
       "[['``',\n",
       "  'Hello',\n",
       "  'there',\n",
       "  ',',\n",
       "  'how',\n",
       "  'are',\n",
       "  'you',\n",
       "  '?',\n",
       "  'Weather',\n",
       "  'is',\n",
       "  'awesome',\n",
       "  '.',\n",
       "  'Its',\n",
       "  'raining',\n",
       "  'here',\n",
       "  'now',\n",
       "  '.',\n",
       "  \"''\"],\n",
       " ['``',\n",
       "  'Hello',\n",
       "  'Mr.',\n",
       "  'Raja',\n",
       "  ',',\n",
       "  'how',\n",
       "  'are',\n",
       "  'you',\n",
       "  '?',\n",
       "  'Weather',\n",
       "  'is',\n",
       "  'awesome',\n",
       "  '.',\n",
       "  'Its',\n",
       "  'raining',\n",
       "  'here',\n",
       "  'now',\n",
       "  '.',\n",
       "  \"''\"],\n",
       " ['``',\n",
       "  'Hello',\n",
       "  'Mr.',\n",
       "  'Raja',\n",
       "  ',',\n",
       "  'how',\n",
       "  'are',\n",
       "  'you',\n",
       "  '.',\n",
       "  'Weather',\n",
       "  'is',\n",
       "  'bad',\n",
       "  '.',\n",
       "  'Its',\n",
       "  'heavily',\n",
       "  'raining',\n",
       "  'here',\n",
       "  'now',\n",
       "  '.',\n",
       "  \"''\"],\n",
       " ['``',\n",
       "  'NLP',\n",
       "  'is',\n",
       "  'great',\n",
       "  'technique',\n",
       "  '.',\n",
       "  'It',\n",
       "  'is',\n",
       "  'nice',\n",
       "  'to',\n",
       "  'learn',\n",
       "  'this',\n",
       "  'technique',\n",
       "  '.',\n",
       "  \"''\"],\n",
       " ['``',\n",
       "  'AI',\n",
       "  'is',\n",
       "  'making',\n",
       "  'difference',\n",
       "  'in',\n",
       "  'this',\n",
       "  'world',\n",
       "  'now',\n",
       "  '.',\n",
       "  'It',\n",
       "  'would',\n",
       "  'be',\n",
       "  'helpful',\n",
       "  'for',\n",
       "  'betterment',\n",
       "  'of',\n",
       "  'human',\n",
       "  'life',\n",
       "  '.',\n",
       "  'We',\n",
       "  'need',\n",
       "  'to',\n",
       "  'make',\n",
       "  'advantage',\n",
       "  'of',\n",
       "  'that',\n",
       "  '.',\n",
       "  \"''\"]]"
      ]
     },
     "execution_count": 34,
     "metadata": {},
     "output_type": "execute_result"
    }
   ],
   "source": [
    "temp"
   ]
  },
  {
   "cell_type": "code",
   "execution_count": 35,
   "metadata": {
    "colab": {
     "base_uri": "https://localhost:8080/",
     "height": 206
    },
    "colab_type": "code",
    "id": "PYuDTJ3c3sl6",
    "outputId": "b3f0378f-1bd6-4a2f-ed84-a7850e313e92"
   },
   "outputs": [
    {
     "data": {
      "text/html": [
       "<div>\n",
       "<style scoped>\n",
       "    .dataframe tbody tr th:only-of-type {\n",
       "        vertical-align: middle;\n",
       "    }\n",
       "\n",
       "    .dataframe tbody tr th {\n",
       "        vertical-align: top;\n",
       "    }\n",
       "\n",
       "    .dataframe thead th {\n",
       "        text-align: right;\n",
       "    }\n",
       "</style>\n",
       "<table border=\"1\" class=\"dataframe\">\n",
       "  <thead>\n",
       "    <tr style=\"text-align: right;\">\n",
       "      <th></th>\n",
       "      <th>to</th>\n",
       "      <th>tokenized_words</th>\n",
       "    </tr>\n",
       "  </thead>\n",
       "  <tbody>\n",
       "    <tr>\n",
       "      <th>0</th>\n",
       "      <td>Hello there, how are you?\\r\\nWeather is awesom...</td>\n",
       "      <td>[``, Hello, there, ,, how, are, you, ?, Weathe...</td>\n",
       "    </tr>\n",
       "    <tr>\n",
       "      <th>1</th>\n",
       "      <td>Hello Mr. Raja, how are you?\\r\\nWeather is awe...</td>\n",
       "      <td>[``, Hello, Mr., Raja, ,, how, are, you, ?, We...</td>\n",
       "    </tr>\n",
       "    <tr>\n",
       "      <th>2</th>\n",
       "      <td>Hello Mr. Raja, how are you.\\r\\nWeather is bad...</td>\n",
       "      <td>[``, Hello, Mr., Raja, ,, how, are, you, ., We...</td>\n",
       "    </tr>\n",
       "    <tr>\n",
       "      <th>3</th>\n",
       "      <td>NLP is great technique.\\r\\nIt is nice to learn...</td>\n",
       "      <td>[``, NLP, is, great, technique, ., It, is, nic...</td>\n",
       "    </tr>\n",
       "    <tr>\n",
       "      <th>4</th>\n",
       "      <td>AI is making difference in this world now.\\r\\n...</td>\n",
       "      <td>[``, AI, is, making, difference, in, this, wor...</td>\n",
       "    </tr>\n",
       "  </tbody>\n",
       "</table>\n",
       "</div>"
      ],
      "text/plain": [
       "                                                  to  \\\n",
       "0  Hello there, how are you?\\r\\nWeather is awesom...   \n",
       "1  Hello Mr. Raja, how are you?\\r\\nWeather is awe...   \n",
       "2  Hello Mr. Raja, how are you.\\r\\nWeather is bad...   \n",
       "3  NLP is great technique.\\r\\nIt is nice to learn...   \n",
       "4  AI is making difference in this world now.\\r\\n...   \n",
       "\n",
       "                                     tokenized_words  \n",
       "0  [``, Hello, there, ,, how, are, you, ?, Weathe...  \n",
       "1  [``, Hello, Mr., Raja, ,, how, are, you, ?, We...  \n",
       "2  [``, Hello, Mr., Raja, ,, how, are, you, ., We...  \n",
       "3  [``, NLP, is, great, technique, ., It, is, nic...  \n",
       "4  [``, AI, is, making, difference, in, this, wor...  "
      ]
     },
     "execution_count": 35,
     "metadata": {},
     "output_type": "execute_result"
    }
   ],
   "source": [
    "data_out['tokenized_words'] = temp\n",
    "data_out"
   ]
  },
  {
   "cell_type": "code",
   "execution_count": 36,
   "metadata": {
    "colab": {},
    "colab_type": "code",
    "id": "1Pj71JQM3skj"
   },
   "outputs": [],
   "source": [
    "# Exercise 3"
   ]
  },
  {
   "cell_type": "code",
   "execution_count": 37,
   "metadata": {
    "colab": {
     "base_uri": "https://localhost:8080/",
     "height": 55
    },
    "colab_type": "code",
    "id": "zR88t--w3sic",
    "outputId": "8b47b711-b549-46b3-bc56-0bba9042291f"
   },
   "outputs": [
    {
     "data": {
      "text/plain": [
       "'Hello there, how are you? Weather is awesome. Its raining here now.\\nHello Mr. Raja, how are you? Weather is awesome. Its raining here now.\\nHello Mr. Raja, how are you. Weather is bad. Its heavily raining here now.\\nNLP is great technique. It is nice to learn this technique.\\nAI is making difference in this world now.  It would be helpful for betterment of human life. We need to make advantage of that.\\n'"
      ]
     },
     "execution_count": 37,
     "metadata": {},
     "output_type": "execute_result"
    }
   ],
   "source": [
    "nlp_data_in = open('nlp_data_in.txt').read()\n",
    "nlp_data_in"
   ]
  },
  {
   "cell_type": "code",
   "execution_count": 38,
   "metadata": {
    "colab": {
     "base_uri": "https://localhost:8080/",
     "height": 1000
    },
    "colab_type": "code",
    "id": "2-DU13BG3shQ",
    "outputId": "422abef6-30af-4027-9943-abd680d64465"
   },
   "outputs": [
    {
     "data": {
      "text/plain": [
       "['Hello',\n",
       " 'there',\n",
       " ',',\n",
       " 'how',\n",
       " 'are',\n",
       " 'you',\n",
       " '?',\n",
       " 'Weather',\n",
       " 'is',\n",
       " 'awesome',\n",
       " '.',\n",
       " 'Its',\n",
       " 'raining',\n",
       " 'here',\n",
       " 'now',\n",
       " '.',\n",
       " 'Hello',\n",
       " 'Mr.',\n",
       " 'Raja',\n",
       " ',',\n",
       " 'how',\n",
       " 'are',\n",
       " 'you',\n",
       " '?',\n",
       " 'Weather',\n",
       " 'is',\n",
       " 'awesome',\n",
       " '.',\n",
       " 'Its',\n",
       " 'raining',\n",
       " 'here',\n",
       " 'now',\n",
       " '.',\n",
       " 'Hello',\n",
       " 'Mr.',\n",
       " 'Raja',\n",
       " ',',\n",
       " 'how',\n",
       " 'are',\n",
       " 'you',\n",
       " '.',\n",
       " 'Weather',\n",
       " 'is',\n",
       " 'bad',\n",
       " '.',\n",
       " 'Its',\n",
       " 'heavily',\n",
       " 'raining',\n",
       " 'here',\n",
       " 'now',\n",
       " '.',\n",
       " 'NLP',\n",
       " 'is',\n",
       " 'great',\n",
       " 'technique',\n",
       " '.',\n",
       " 'It',\n",
       " 'is',\n",
       " 'nice',\n",
       " 'to',\n",
       " 'learn',\n",
       " 'this',\n",
       " 'technique',\n",
       " '.',\n",
       " 'AI',\n",
       " 'is',\n",
       " 'making',\n",
       " 'difference',\n",
       " 'in',\n",
       " 'this',\n",
       " 'world',\n",
       " 'now',\n",
       " '.',\n",
       " 'It',\n",
       " 'would',\n",
       " 'be',\n",
       " 'helpful',\n",
       " 'for',\n",
       " 'betterment',\n",
       " 'of',\n",
       " 'human',\n",
       " 'life',\n",
       " '.',\n",
       " 'We',\n",
       " 'need',\n",
       " 'to',\n",
       " 'make',\n",
       " 'advantage',\n",
       " 'of',\n",
       " 'that',\n",
       " '.']"
      ]
     },
     "execution_count": 38,
     "metadata": {},
     "output_type": "execute_result"
    }
   ],
   "source": [
    "tokens = word_tokenize(nlp_data_in)\n",
    "tokens"
   ]
  },
  {
   "cell_type": "code",
   "execution_count": 39,
   "metadata": {
    "colab": {
     "base_uri": "https://localhost:8080/",
     "height": 109
    },
    "colab_type": "code",
    "id": "qCg7VgNXTAIj",
    "outputId": "ebb90ea8-c0f3-425b-ce8f-8710aed4f9db"
   },
   "outputs": [
    {
     "name": "stderr",
     "output_type": "stream",
     "text": [
      "[nltk_data] Downloading package averaged_perceptron_tagger to\n",
      "[nltk_data]     C:\\Users\\kmuthu2\\AppData\\Roaming\\nltk_data...\n",
      "[nltk_data]   Package averaged_perceptron_tagger is already up-to-\n",
      "[nltk_data]       date!\n"
     ]
    },
    {
     "data": {
      "text/plain": [
       "True"
      ]
     },
     "execution_count": 39,
     "metadata": {},
     "output_type": "execute_result"
    }
   ],
   "source": [
    "nltk.download('averaged_perceptron_tagger')"
   ]
  },
  {
   "cell_type": "code",
   "execution_count": 40,
   "metadata": {
    "colab": {},
    "colab_type": "code",
    "id": "kMRr1Nfs3sci"
   },
   "outputs": [],
   "source": [
    "tag = nltk.pos_tag(tokens)"
   ]
  },
  {
   "cell_type": "code",
   "execution_count": 41,
   "metadata": {
    "colab": {
     "base_uri": "https://localhost:8080/",
     "height": 1000
    },
    "colab_type": "code",
    "id": "kuQ_NmPO3sMM",
    "outputId": "9e594150-0a8f-4e32-cb15-a4568af21e67"
   },
   "outputs": [
    {
     "data": {
      "text/plain": [
       "[('Hello', 'NNP'),\n",
       " ('there', 'RB'),\n",
       " (',', ','),\n",
       " ('how', 'WRB'),\n",
       " ('are', 'VBP'),\n",
       " ('you', 'PRP'),\n",
       " ('?', '.'),\n",
       " ('Weather', \"''\"),\n",
       " ('is', 'VBZ'),\n",
       " ('awesome', 'JJ'),\n",
       " ('.', '.'),\n",
       " ('Its', 'PRP$'),\n",
       " ('raining', 'VBG'),\n",
       " ('here', 'RB'),\n",
       " ('now', 'RB'),\n",
       " ('.', '.'),\n",
       " ('Hello', 'NNP'),\n",
       " ('Mr.', 'NNP'),\n",
       " ('Raja', 'NNP'),\n",
       " (',', ','),\n",
       " ('how', 'WRB'),\n",
       " ('are', 'VBP'),\n",
       " ('you', 'PRP'),\n",
       " ('?', '.'),\n",
       " ('Weather', \"''\"),\n",
       " ('is', 'VBZ'),\n",
       " ('awesome', 'JJ'),\n",
       " ('.', '.'),\n",
       " ('Its', 'PRP$'),\n",
       " ('raining', 'VBG'),\n",
       " ('here', 'RB'),\n",
       " ('now', 'RB'),\n",
       " ('.', '.'),\n",
       " ('Hello', 'NNP'),\n",
       " ('Mr.', 'NNP'),\n",
       " ('Raja', 'NNP'),\n",
       " (',', ','),\n",
       " ('how', 'WRB'),\n",
       " ('are', 'VBP'),\n",
       " ('you', 'PRP'),\n",
       " ('.', '.'),\n",
       " ('Weather', 'CC'),\n",
       " ('is', 'VBZ'),\n",
       " ('bad', 'JJ'),\n",
       " ('.', '.'),\n",
       " ('Its', 'PRP$'),\n",
       " ('heavily', 'RB'),\n",
       " ('raining', 'VBG'),\n",
       " ('here', 'RB'),\n",
       " ('now', 'RB'),\n",
       " ('.', '.'),\n",
       " ('NLP', 'NNP'),\n",
       " ('is', 'VBZ'),\n",
       " ('great', 'JJ'),\n",
       " ('technique', 'NN'),\n",
       " ('.', '.'),\n",
       " ('It', 'PRP'),\n",
       " ('is', 'VBZ'),\n",
       " ('nice', 'JJ'),\n",
       " ('to', 'TO'),\n",
       " ('learn', 'VB'),\n",
       " ('this', 'DT'),\n",
       " ('technique', 'NN'),\n",
       " ('.', '.'),\n",
       " ('AI', 'NNP'),\n",
       " ('is', 'VBZ'),\n",
       " ('making', 'VBG'),\n",
       " ('difference', 'NN'),\n",
       " ('in', 'IN'),\n",
       " ('this', 'DT'),\n",
       " ('world', 'NN'),\n",
       " ('now', 'RB'),\n",
       " ('.', '.'),\n",
       " ('It', 'PRP'),\n",
       " ('would', 'MD'),\n",
       " ('be', 'VB'),\n",
       " ('helpful', 'JJ'),\n",
       " ('for', 'IN'),\n",
       " ('betterment', 'NN'),\n",
       " ('of', 'IN'),\n",
       " ('human', 'JJ'),\n",
       " ('life', 'NN'),\n",
       " ('.', '.'),\n",
       " ('We', 'PRP'),\n",
       " ('need', 'VBP'),\n",
       " ('to', 'TO'),\n",
       " ('make', 'VB'),\n",
       " ('advantage', 'NN'),\n",
       " ('of', 'IN'),\n",
       " ('that', 'DT'),\n",
       " ('.', '.')]"
      ]
     },
     "execution_count": 41,
     "metadata": {},
     "output_type": "execute_result"
    }
   ],
   "source": [
    "tag"
   ]
  },
  {
   "cell_type": "code",
   "execution_count": 42,
   "metadata": {
    "colab": {},
    "colab_type": "code",
    "id": "dL7YGUTXTqsw"
   },
   "outputs": [],
   "source": [
    "import matplotlib"
   ]
  },
  {
   "cell_type": "code",
   "execution_count": 43,
   "metadata": {
    "colab": {},
    "colab_type": "code",
    "id": "F0p1DqeO3sEi"
   },
   "outputs": [],
   "source": [
    "grammar = \"NP: {<DT>?<JJ>*<NN>}\"\n",
    "cp  =nltk.RegexpParser(grammar)\n",
    "result = cp.parse(tag)"
   ]
  },
  {
   "cell_type": "code",
   "execution_count": 44,
   "metadata": {
    "colab": {
     "base_uri": "https://localhost:8080/",
     "height": 325
    },
    "colab_type": "code",
    "id": "UqXtP2th3sDA",
    "outputId": "340cd040-70eb-4ec8-c98a-0b6fbcb4cfe7"
   },
   "outputs": [],
   "source": [
    "result.draw()"
   ]
  },
  {
   "cell_type": "code",
   "execution_count": 45,
   "metadata": {},
   "outputs": [],
   "source": [
    "# As draw() draws pic in new window saved as pic and displaying using IFrame"
   ]
  },
  {
   "cell_type": "code",
   "execution_count": 46,
   "metadata": {
    "colab": {},
    "colab_type": "code",
    "id": "vwD0K3vi3r9h"
   },
   "outputs": [
    {
     "data": {
      "text/html": [
       "\n",
       "        <iframe\n",
       "            width=\"600\"\n",
       "            height=\"300\"\n",
       "            src=\"pos_tree.pdf\"\n",
       "            frameborder=\"0\"\n",
       "            allowfullscreen\n",
       "        ></iframe>\n",
       "        "
      ],
      "text/plain": [
       "<IPython.lib.display.IFrame at 0x19e7b6c4fc8>"
      ]
     },
     "execution_count": 46,
     "metadata": {},
     "output_type": "execute_result"
    }
   ],
   "source": [
    "from IPython.display import IFrame\n",
    "IFrame(\"pos_tree.pdf\", width=600, height=300)"
   ]
  },
  {
   "cell_type": "code",
   "execution_count": 47,
   "metadata": {
    "colab": {},
    "colab_type": "code",
    "id": "ZBGOTrQx3r1O"
   },
   "outputs": [],
   "source": [
    "# As The tree structure showd in ps file , I saved that as PDF and showing in Notebook. Thanks "
   ]
  },
  {
   "cell_type": "code",
   "execution_count": 48,
   "metadata": {
    "colab": {},
    "colab_type": "code",
    "id": "GLkbXZ4y3ryM"
   },
   "outputs": [],
   "source": [
    "# Exercise 4"
   ]
  },
  {
   "cell_type": "code",
   "execution_count": 49,
   "metadata": {
    "colab": {},
    "colab_type": "code",
    "id": "rEbjJCNm3rpT"
   },
   "outputs": [
    {
     "data": {
      "text/plain": [
       "'Hello there, how are you? Weather is awesome. Its raining here now.\\nHello Mr. Raja, how are you? Weather is awesome. Its raining here now.\\nHello Mr. Raja, how are you. Weather is bad. Its heavily raining here now.\\nNLP is great technique. It is nice to learn this technique.\\nAI is making difference in this world now.  It would be helpful for betterment of human life. We need to make advantage of that.\\n'"
      ]
     },
     "execution_count": 49,
     "metadata": {},
     "output_type": "execute_result"
    }
   ],
   "source": [
    "nlp_data_in"
   ]
  },
  {
   "cell_type": "code",
   "execution_count": 50,
   "metadata": {
    "colab": {},
    "colab_type": "code",
    "id": "as7Y8W0f3rhf"
   },
   "outputs": [],
   "source": [
    "from nltk.corpus import stopwords"
   ]
  },
  {
   "cell_type": "code",
   "execution_count": 51,
   "metadata": {},
   "outputs": [
    {
     "name": "stderr",
     "output_type": "stream",
     "text": [
      "[nltk_data] Downloading package stopwords to\n",
      "[nltk_data]     C:\\Users\\kmuthu2\\AppData\\Roaming\\nltk_data...\n",
      "[nltk_data]   Package stopwords is already up-to-date!\n"
     ]
    },
    {
     "data": {
      "text/plain": [
       "True"
      ]
     },
     "execution_count": 51,
     "metadata": {},
     "output_type": "execute_result"
    }
   ],
   "source": [
    "nltk.download('stopwords')"
   ]
  },
  {
   "cell_type": "code",
   "execution_count": 52,
   "metadata": {
    "colab": {},
    "colab_type": "code",
    "id": "VoFsETX93rfo"
   },
   "outputs": [],
   "source": [
    "stop_words = set(stopwords.words('english'))"
   ]
  },
  {
   "cell_type": "code",
   "execution_count": 53,
   "metadata": {
    "colab": {},
    "colab_type": "code",
    "id": "WFav0n6S3rc5"
   },
   "outputs": [],
   "source": [
    "word_tokens = word_tokenize(nlp_data_in)"
   ]
  },
  {
   "cell_type": "code",
   "execution_count": 54,
   "metadata": {
    "colab": {},
    "colab_type": "code",
    "id": "rFNX4tdr3rT4"
   },
   "outputs": [],
   "source": [
    "filtered_sentence = [word for word in word_tokens if not word in stop_words]"
   ]
  },
  {
   "cell_type": "code",
   "execution_count": 55,
   "metadata": {
    "colab": {},
    "colab_type": "code",
    "id": "e-OACukm3rRy"
   },
   "outputs": [
    {
     "data": {
      "text/plain": [
       "['Hello',\n",
       " ',',\n",
       " '?',\n",
       " 'Weather',\n",
       " 'awesome',\n",
       " '.',\n",
       " 'Its',\n",
       " 'raining',\n",
       " '.',\n",
       " 'Hello',\n",
       " 'Mr.',\n",
       " 'Raja',\n",
       " ',',\n",
       " '?',\n",
       " 'Weather',\n",
       " 'awesome',\n",
       " '.',\n",
       " 'Its',\n",
       " 'raining',\n",
       " '.',\n",
       " 'Hello',\n",
       " 'Mr.',\n",
       " 'Raja',\n",
       " ',',\n",
       " '.',\n",
       " 'Weather',\n",
       " 'bad',\n",
       " '.',\n",
       " 'Its',\n",
       " 'heavily',\n",
       " 'raining',\n",
       " '.',\n",
       " 'NLP',\n",
       " 'great',\n",
       " 'technique',\n",
       " '.',\n",
       " 'It',\n",
       " 'nice',\n",
       " 'learn',\n",
       " 'technique',\n",
       " '.',\n",
       " 'AI',\n",
       " 'making',\n",
       " 'difference',\n",
       " 'world',\n",
       " '.',\n",
       " 'It',\n",
       " 'would',\n",
       " 'helpful',\n",
       " 'betterment',\n",
       " 'human',\n",
       " 'life',\n",
       " '.',\n",
       " 'We',\n",
       " 'need',\n",
       " 'make',\n",
       " 'advantage',\n",
       " '.']"
      ]
     },
     "execution_count": 55,
     "metadata": {},
     "output_type": "execute_result"
    }
   ],
   "source": [
    "filtered_sentence"
   ]
  },
  {
   "cell_type": "code",
   "execution_count": 56,
   "metadata": {
    "colab": {},
    "colab_type": "code",
    "id": "-EMbylF53rPn"
   },
   "outputs": [],
   "source": [
    "from nltk.stem import PorterStemmer"
   ]
  },
  {
   "cell_type": "code",
   "execution_count": 57,
   "metadata": {
    "colab": {},
    "colab_type": "code",
    "id": "RCJqJlbE3rGz"
   },
   "outputs": [],
   "source": [
    "ps = PorterStemmer()\n",
    "stemmed_sentence = []"
   ]
  },
  {
   "cell_type": "code",
   "execution_count": 58,
   "metadata": {
    "colab": {},
    "colab_type": "code",
    "id": "FZ0kNiRH3rEr"
   },
   "outputs": [
    {
     "name": "stdout",
     "output_type": "stream",
     "text": [
      "hello\n",
      ",\n",
      "?\n",
      "weather\n",
      "awesom\n",
      ".\n",
      "it\n",
      "rain\n",
      ".\n",
      "hello\n",
      "mr.\n",
      "raja\n",
      ",\n",
      "?\n",
      "weather\n",
      "awesom\n",
      ".\n",
      "it\n",
      "rain\n",
      ".\n",
      "hello\n",
      "mr.\n",
      "raja\n",
      ",\n",
      ".\n",
      "weather\n",
      "bad\n",
      ".\n",
      "it\n",
      "heavili\n",
      "rain\n",
      ".\n",
      "nlp\n",
      "great\n",
      "techniqu\n",
      ".\n",
      "It\n",
      "nice\n",
      "learn\n",
      "techniqu\n",
      ".\n",
      "AI\n",
      "make\n",
      "differ\n",
      "world\n",
      ".\n",
      "It\n",
      "would\n",
      "help\n",
      "better\n",
      "human\n",
      "life\n",
      ".\n",
      "We\n",
      "need\n",
      "make\n",
      "advantag\n",
      ".\n"
     ]
    }
   ],
   "source": [
    "for word in filtered_sentence:\n",
    "    print(ps.stem(word))\n",
    "    stemmed_sentence.append(ps.stem(word))"
   ]
  },
  {
   "cell_type": "code",
   "execution_count": 59,
   "metadata": {
    "colab": {},
    "colab_type": "code",
    "id": "OczwYR7R3rBE"
   },
   "outputs": [
    {
     "data": {
      "text/plain": [
       "['hello',\n",
       " ',',\n",
       " '?',\n",
       " 'weather',\n",
       " 'awesom',\n",
       " '.',\n",
       " 'it',\n",
       " 'rain',\n",
       " '.',\n",
       " 'hello',\n",
       " 'mr.',\n",
       " 'raja',\n",
       " ',',\n",
       " '?',\n",
       " 'weather',\n",
       " 'awesom',\n",
       " '.',\n",
       " 'it',\n",
       " 'rain',\n",
       " '.',\n",
       " 'hello',\n",
       " 'mr.',\n",
       " 'raja',\n",
       " ',',\n",
       " '.',\n",
       " 'weather',\n",
       " 'bad',\n",
       " '.',\n",
       " 'it',\n",
       " 'heavili',\n",
       " 'rain',\n",
       " '.',\n",
       " 'nlp',\n",
       " 'great',\n",
       " 'techniqu',\n",
       " '.',\n",
       " 'It',\n",
       " 'nice',\n",
       " 'learn',\n",
       " 'techniqu',\n",
       " '.',\n",
       " 'AI',\n",
       " 'make',\n",
       " 'differ',\n",
       " 'world',\n",
       " '.',\n",
       " 'It',\n",
       " 'would',\n",
       " 'help',\n",
       " 'better',\n",
       " 'human',\n",
       " 'life',\n",
       " '.',\n",
       " 'We',\n",
       " 'need',\n",
       " 'make',\n",
       " 'advantag',\n",
       " '.']"
      ]
     },
     "execution_count": 59,
     "metadata": {},
     "output_type": "execute_result"
    }
   ],
   "source": [
    "stemmed_sentence"
   ]
  },
  {
   "cell_type": "code",
   "execution_count": 60,
   "metadata": {
    "colab": {},
    "colab_type": "code",
    "id": "Vs8tSQ1I3q-P"
   },
   "outputs": [],
   "source": [
    "from nltk.stem import WordNetLemmatizer"
   ]
  },
  {
   "cell_type": "code",
   "execution_count": 61,
   "metadata": {},
   "outputs": [
    {
     "name": "stderr",
     "output_type": "stream",
     "text": [
      "[nltk_data] Downloading package wordnet to\n",
      "[nltk_data]     C:\\Users\\kmuthu2\\AppData\\Roaming\\nltk_data...\n",
      "[nltk_data]   Package wordnet is already up-to-date!\n"
     ]
    },
    {
     "data": {
      "text/plain": [
       "True"
      ]
     },
     "execution_count": 61,
     "metadata": {},
     "output_type": "execute_result"
    }
   ],
   "source": [
    "nltk.download('wordnet')"
   ]
  },
  {
   "cell_type": "code",
   "execution_count": 62,
   "metadata": {
    "colab": {},
    "colab_type": "code",
    "id": "b00cuC4y3q5Y"
   },
   "outputs": [],
   "source": [
    "lemmatizer = WordNetLemmatizer()\n",
    "lemmatized_sentence = []"
   ]
  },
  {
   "cell_type": "code",
   "execution_count": 63,
   "metadata": {
    "colab": {},
    "colab_type": "code",
    "id": "aqU5Jr2g3q25"
   },
   "outputs": [
    {
     "name": "stdout",
     "output_type": "stream",
     "text": [
      "hello\n",
      ",\n",
      "?\n",
      "weather\n",
      "awesom\n",
      ".\n",
      "it\n",
      "rain\n",
      ".\n",
      "hello\n",
      "mr.\n",
      "raja\n",
      ",\n",
      "?\n",
      "weather\n",
      "awesom\n",
      ".\n",
      "it\n",
      "rain\n",
      ".\n",
      "hello\n",
      "mr.\n",
      "raja\n",
      ",\n",
      ".\n",
      "weather\n",
      "bad\n",
      ".\n",
      "it\n",
      "heavili\n",
      "rain\n",
      ".\n",
      "nlp\n",
      "great\n",
      "techniqu\n",
      ".\n",
      "It\n",
      "nice\n",
      "learn\n",
      "techniqu\n",
      ".\n",
      "AI\n",
      "make\n",
      "differ\n",
      "world\n",
      ".\n",
      "It\n",
      "would\n",
      "help\n",
      "better\n",
      "human\n",
      "life\n",
      ".\n",
      "We\n",
      "need\n",
      "make\n",
      "advantag\n",
      ".\n"
     ]
    }
   ],
   "source": [
    "for word in stemmed_sentence:\n",
    "    print(lemmatizer.lemmatize(word))\n",
    "    lemmatized_sentence.append(lemmatizer.lemmatize(word))"
   ]
  },
  {
   "cell_type": "code",
   "execution_count": 64,
   "metadata": {
    "colab": {},
    "colab_type": "code",
    "id": "aY_bSqE53quA"
   },
   "outputs": [
    {
     "data": {
      "text/plain": [
       "['hello',\n",
       " ',',\n",
       " '?',\n",
       " 'weather',\n",
       " 'awesom',\n",
       " '.',\n",
       " 'it',\n",
       " 'rain',\n",
       " '.',\n",
       " 'hello',\n",
       " 'mr.',\n",
       " 'raja',\n",
       " ',',\n",
       " '?',\n",
       " 'weather',\n",
       " 'awesom',\n",
       " '.',\n",
       " 'it',\n",
       " 'rain',\n",
       " '.',\n",
       " 'hello',\n",
       " 'mr.',\n",
       " 'raja',\n",
       " ',',\n",
       " '.',\n",
       " 'weather',\n",
       " 'bad',\n",
       " '.',\n",
       " 'it',\n",
       " 'heavili',\n",
       " 'rain',\n",
       " '.',\n",
       " 'nlp',\n",
       " 'great',\n",
       " 'techniqu',\n",
       " '.',\n",
       " 'It',\n",
       " 'nice',\n",
       " 'learn',\n",
       " 'techniqu',\n",
       " '.',\n",
       " 'AI',\n",
       " 'make',\n",
       " 'differ',\n",
       " 'world',\n",
       " '.',\n",
       " 'It',\n",
       " 'would',\n",
       " 'help',\n",
       " 'better',\n",
       " 'human',\n",
       " 'life',\n",
       " '.',\n",
       " 'We',\n",
       " 'need',\n",
       " 'make',\n",
       " 'advantag',\n",
       " '.']"
      ]
     },
     "execution_count": 64,
     "metadata": {},
     "output_type": "execute_result"
    }
   ],
   "source": [
    "lemmatized_sentence"
   ]
  },
  {
   "cell_type": "code",
   "execution_count": 65,
   "metadata": {
    "colab": {},
    "colab_type": "code",
    "id": "kGhxUPOx3qsa"
   },
   "outputs": [
    {
     "name": "stdout",
     "output_type": "stream",
     "text": [
      " Volume in drive C is OSDisk\n",
      " Volume Serial Number is 1A6C-69AB\n",
      "\n",
      " Directory of C:\\Users\\kmuthu2\\Documents\\Wipro AIML\\1B\n",
      "\n",
      "03/26/2020  11:09 AM            38,121 (Forward to others) Join Webex meeting in progress_ AI ML L1.eml\n",
      "04/13/2020  02:28 AM    <DIR>          .\n",
      "04/13/2020  02:28 AM    <DIR>          ..\n",
      "04/13/2020  02:11 AM    <DIR>          .ipynb_checkpoints\n",
      "03/23/2020  12:36 PM    <DIR>          23 Mar\n",
      "03/29/2020  11:26 PM            45,753 ai_ml_1.docx\n",
      "04/13/2020  02:28 AM           266,519 ai_ml_l1.ipynb\n",
      "04/01/2020  06:32 AM           392,434 AI-AppDeveloperFS-AS_NLP_ML-assignment (1).pdf\n",
      "03/29/2020  11:27 PM           392,434 ai-appdeveloperfs-as_nlp_ml-assignment.pdf\n",
      "04/13/2020  12:01 AM    <DIR>          AIML\n",
      "04/13/2020  02:23 AM            40,185 AIML_NLP.ipynb\n",
      "03/21/2020  02:40 PM        19,026,390 assessment_python_for_data_science_level_one.docx\n",
      "09/20/2019  06:24 PM            18,131 auto-mpg.csv\n",
      "04/06/2020  07:31 AM            30,286 auto-mpg.data\n",
      "04/06/2020  07:30 AM            32,149 auto-mpg.data-original\n",
      "04/06/2020  07:31 AM             1,660 auto-mpg.names\n",
      "10/28/1997  09:10 AM       103,874,469 census-income.data\n",
      "03/23/2020  04:19 AM         6,524,338 census-income.data.gz\n",
      "03/23/2020  04:37 AM       677,232,696 CORD-19-research-challenge.zip\n",
      "04/08/2020  04:51 AM            33,845 corr.png\n",
      "04/06/2020  07:23 AM               447 data_in.csv\n",
      "04/13/2020  02:29 AM               426 data_out.csv\n",
      "03/19/2020  10:48 AM    <DIR>          Datasets\n",
      "03/20/2020  12:41 PM    <DIR>          Day 4\n",
      "04/09/2020  04:51 AM         1,461,127 drive-download-20200408T232108Z-001.zip\n",
      "04/10/2020  08:53 PM    <DIR>          Final Assignment\n",
      "04/12/2020  11:45 PM            35,045 fitted_line.png\n",
      "04/06/2020  07:31 AM             3,103 haberman.data\n",
      "04/06/2020  07:31 AM             1,368 haberman.names\n",
      "04/01/2020  06:33 AM            16,920 Inputfiles.zip\n",
      "04/12/2020  11:34 PM            36,871 linear_fit.png\n",
      "03/26/2020  12:13 PM    <DIR>          mar 26\n",
      "03/27/2020  12:01 PM    <DIR>          Mar 27\n",
      "04/05/2020  10:22 AM         2,059,102 Melbourne_House_Project_Submit_Copy.ipynb\n",
      "04/08/2020  05:14 AM            20,226 model_scatter.png\n",
      "04/01/2020  11:38 AM    <DIR>          NLP PART\n",
      "04/06/2020  07:29 AM               190 nlp_data_dict.txt\n",
      "04/06/2020  07:27 AM               408 nlp_data_in.txt\n",
      "04/06/2020  07:28 AM               315 nlp_data_sentiment_analyzer.txt\n",
      "04/08/2020  02:29 AM            14,882 pos_tree.pdf\n",
      "04/08/2020  02:22 AM            39,652 pos_tree.ps\n",
      "04/12/2020  09:21 PM            37,451 scatter.png\n",
      "04/12/2020  11:17 PM            30,962 scatter_.png\n",
      "04/06/2020  07:22 AM             8,951 stats.xlsx\n",
      "04/08/2020  03:36 AM            23,024 uci_404.png\n",
      "04/13/2020  02:11 AM               555 Untitled.ipynb\n",
      "04/09/2020  04:34 AM            28,084 vdi_error.png\n",
      "              36 File(s)    811,768,519 bytes\n",
      "              11 Dir(s)  98,726,952,960 bytes free\n"
     ]
    }
   ],
   "source": [
    "ls"
   ]
  },
  {
   "cell_type": "code",
   "execution_count": 66,
   "metadata": {
    "colab": {},
    "colab_type": "code",
    "id": "vJhdhag63qpC"
   },
   "outputs": [],
   "source": [
    "# Exercise 5"
   ]
  },
  {
   "cell_type": "code",
   "execution_count": 67,
   "metadata": {
    "colab": {},
    "colab_type": "code",
    "id": "vZAHYFw33qjf"
   },
   "outputs": [],
   "source": [
    "nlp_data_dict = open('nlp_data_dict.txt').read()"
   ]
  },
  {
   "cell_type": "code",
   "execution_count": 68,
   "metadata": {
    "colab": {},
    "colab_type": "code",
    "id": "i9oXDGZj3qf9"
   },
   "outputs": [
    {
     "data": {
      "text/plain": [
       "'neg_words=[\"hate\",\"hatred\",\"annoyed\",\"annoy\",\"annoyingly\",\"nasty\"]\\npos_words=[\"nice\",\"excellent\",\"good\",\"wonderful\",\"best\",\"better\",\"awesome\",\"beautiful\",\"beauty\",\"beautifully\",\"supreme\"]\\n'"
      ]
     },
     "execution_count": 68,
     "metadata": {},
     "output_type": "execute_result"
    }
   ],
   "source": [
    "nlp_data_dict"
   ]
  },
  {
   "cell_type": "code",
   "execution_count": 69,
   "metadata": {
    "colab": {},
    "colab_type": "code",
    "id": "KV1DJkjT3qZT"
   },
   "outputs": [],
   "source": [
    "exec(nlp_data_dict.split()[0])"
   ]
  },
  {
   "cell_type": "code",
   "execution_count": 70,
   "metadata": {
    "colab": {},
    "colab_type": "code",
    "id": "eXvvVKTZ3qUp"
   },
   "outputs": [],
   "source": [
    "exec(nlp_data_dict.split()[1])"
   ]
  },
  {
   "cell_type": "code",
   "execution_count": 71,
   "metadata": {
    "colab": {},
    "colab_type": "code",
    "id": "1mlcDlVG3qPo"
   },
   "outputs": [
    {
     "data": {
      "text/plain": [
       "['hate', 'hatred', 'annoyed', 'annoy', 'annoyingly', 'nasty']"
      ]
     },
     "execution_count": 71,
     "metadata": {},
     "output_type": "execute_result"
    }
   ],
   "source": [
    "neg_words"
   ]
  },
  {
   "cell_type": "code",
   "execution_count": 72,
   "metadata": {
    "colab": {},
    "colab_type": "code",
    "id": "VjrbJnAq3qNl"
   },
   "outputs": [
    {
     "data": {
      "text/plain": [
       "['nice',\n",
       " 'excellent',\n",
       " 'good',\n",
       " 'wonderful',\n",
       " 'best',\n",
       " 'better',\n",
       " 'awesome',\n",
       " 'beautiful',\n",
       " 'beauty',\n",
       " 'beautifully',\n",
       " 'supreme']"
      ]
     },
     "execution_count": 72,
     "metadata": {},
     "output_type": "execute_result"
    }
   ],
   "source": [
    "pos_words"
   ]
  },
  {
   "cell_type": "code",
   "execution_count": 73,
   "metadata": {},
   "outputs": [],
   "source": [
    "pos_words = {key : 1 for key in pos_words}"
   ]
  },
  {
   "cell_type": "code",
   "execution_count": 74,
   "metadata": {},
   "outputs": [],
   "source": [
    "neg_words = {key : 0 for key in neg_words}"
   ]
  },
  {
   "cell_type": "code",
   "execution_count": null,
   "metadata": {},
   "outputs": [],
   "source": []
  },
  {
   "cell_type": "code",
   "execution_count": null,
   "metadata": {},
   "outputs": [],
   "source": []
  },
  {
   "cell_type": "code",
   "execution_count": 75,
   "metadata": {
    "colab": {},
    "colab_type": "code",
    "id": "JoWpSD5h3qKu"
   },
   "outputs": [
    {
     "data": {
      "application/javascript": [
       "\n",
       "        if (window._pyforest_update_imports_cell) { window._pyforest_update_imports_cell('import pandas as pd\\nimport numpy as np'); }\n",
       "    "
      ],
      "text/plain": [
       "<IPython.core.display.Javascript object>"
      ]
     },
     "metadata": {},
     "output_type": "display_data"
    },
    {
     "data": {
      "text/html": [
       "<div>\n",
       "<style scoped>\n",
       "    .dataframe tbody tr th:only-of-type {\n",
       "        vertical-align: middle;\n",
       "    }\n",
       "\n",
       "    .dataframe tbody tr th {\n",
       "        vertical-align: top;\n",
       "    }\n",
       "\n",
       "    .dataframe thead th {\n",
       "        text-align: right;\n",
       "    }\n",
       "</style>\n",
       "<table border=\"1\" class=\"dataframe\">\n",
       "  <thead>\n",
       "    <tr style=\"text-align: right;\">\n",
       "      <th></th>\n",
       "      <th>nice</th>\n",
       "      <th>excellent</th>\n",
       "      <th>good</th>\n",
       "      <th>wonderful</th>\n",
       "      <th>best</th>\n",
       "      <th>better</th>\n",
       "      <th>awesome</th>\n",
       "      <th>beautiful</th>\n",
       "      <th>beauty</th>\n",
       "      <th>beautifully</th>\n",
       "      <th>supreme</th>\n",
       "    </tr>\n",
       "  </thead>\n",
       "  <tbody>\n",
       "    <tr>\n",
       "      <th>0</th>\n",
       "      <td>1</td>\n",
       "      <td>1</td>\n",
       "      <td>1</td>\n",
       "      <td>1</td>\n",
       "      <td>1</td>\n",
       "      <td>1</td>\n",
       "      <td>1</td>\n",
       "      <td>1</td>\n",
       "      <td>1</td>\n",
       "      <td>1</td>\n",
       "      <td>1</td>\n",
       "    </tr>\n",
       "  </tbody>\n",
       "</table>\n",
       "</div>"
      ],
      "text/plain": [
       "   nice  excellent  good  wonderful  best  better  awesome  beautiful  beauty  \\\n",
       "0     1          1     1          1     1       1        1          1       1   \n",
       "\n",
       "   beautifully  supreme  \n",
       "0            1        1  "
      ]
     },
     "execution_count": 75,
     "metadata": {},
     "output_type": "execute_result"
    }
   ],
   "source": [
    "nlp_df = pd.DataFrame(pos_words, index = [0])\n",
    "nlp_df"
   ]
  },
  {
   "cell_type": "code",
   "execution_count": 76,
   "metadata": {
    "colab": {},
    "colab_type": "code",
    "id": "NxIzaubt3qGF"
   },
   "outputs": [],
   "source": [
    "nlp_df = nlp_df.T.reset_index()"
   ]
  },
  {
   "cell_type": "code",
   "execution_count": 77,
   "metadata": {
    "colab": {},
    "colab_type": "code",
    "id": "Xk_QOpvZ3qDT"
   },
   "outputs": [
    {
     "data": {
      "text/html": [
       "<div>\n",
       "<style scoped>\n",
       "    .dataframe tbody tr th:only-of-type {\n",
       "        vertical-align: middle;\n",
       "    }\n",
       "\n",
       "    .dataframe tbody tr th {\n",
       "        vertical-align: top;\n",
       "    }\n",
       "\n",
       "    .dataframe thead th {\n",
       "        text-align: right;\n",
       "    }\n",
       "</style>\n",
       "<table border=\"1\" class=\"dataframe\">\n",
       "  <thead>\n",
       "    <tr style=\"text-align: right;\">\n",
       "      <th></th>\n",
       "      <th>index</th>\n",
       "      <th>0</th>\n",
       "    </tr>\n",
       "  </thead>\n",
       "  <tbody>\n",
       "    <tr>\n",
       "      <th>0</th>\n",
       "      <td>nice</td>\n",
       "      <td>1</td>\n",
       "    </tr>\n",
       "    <tr>\n",
       "      <th>1</th>\n",
       "      <td>excellent</td>\n",
       "      <td>1</td>\n",
       "    </tr>\n",
       "    <tr>\n",
       "      <th>2</th>\n",
       "      <td>good</td>\n",
       "      <td>1</td>\n",
       "    </tr>\n",
       "    <tr>\n",
       "      <th>3</th>\n",
       "      <td>wonderful</td>\n",
       "      <td>1</td>\n",
       "    </tr>\n",
       "    <tr>\n",
       "      <th>4</th>\n",
       "      <td>best</td>\n",
       "      <td>1</td>\n",
       "    </tr>\n",
       "    <tr>\n",
       "      <th>5</th>\n",
       "      <td>better</td>\n",
       "      <td>1</td>\n",
       "    </tr>\n",
       "    <tr>\n",
       "      <th>6</th>\n",
       "      <td>awesome</td>\n",
       "      <td>1</td>\n",
       "    </tr>\n",
       "    <tr>\n",
       "      <th>7</th>\n",
       "      <td>beautiful</td>\n",
       "      <td>1</td>\n",
       "    </tr>\n",
       "    <tr>\n",
       "      <th>8</th>\n",
       "      <td>beauty</td>\n",
       "      <td>1</td>\n",
       "    </tr>\n",
       "    <tr>\n",
       "      <th>9</th>\n",
       "      <td>beautifully</td>\n",
       "      <td>1</td>\n",
       "    </tr>\n",
       "    <tr>\n",
       "      <th>10</th>\n",
       "      <td>supreme</td>\n",
       "      <td>1</td>\n",
       "    </tr>\n",
       "  </tbody>\n",
       "</table>\n",
       "</div>"
      ],
      "text/plain": [
       "          index  0\n",
       "0          nice  1\n",
       "1     excellent  1\n",
       "2          good  1\n",
       "3     wonderful  1\n",
       "4          best  1\n",
       "5        better  1\n",
       "6       awesome  1\n",
       "7     beautiful  1\n",
       "8        beauty  1\n",
       "9   beautifully  1\n",
       "10      supreme  1"
      ]
     },
     "execution_count": 77,
     "metadata": {},
     "output_type": "execute_result"
    }
   ],
   "source": [
    "nlp_df"
   ]
  },
  {
   "cell_type": "code",
   "execution_count": 78,
   "metadata": {
    "colab": {},
    "colab_type": "code",
    "id": "WVEHYLuA3p-u"
   },
   "outputs": [],
   "source": [
    "nlp_df.rename(columns = {'index' : 'text' , 0 : 'label'} , inplace = True)"
   ]
  },
  {
   "cell_type": "code",
   "execution_count": 79,
   "metadata": {},
   "outputs": [
    {
     "data": {
      "text/html": [
       "<div>\n",
       "<style scoped>\n",
       "    .dataframe tbody tr th:only-of-type {\n",
       "        vertical-align: middle;\n",
       "    }\n",
       "\n",
       "    .dataframe tbody tr th {\n",
       "        vertical-align: top;\n",
       "    }\n",
       "\n",
       "    .dataframe thead th {\n",
       "        text-align: right;\n",
       "    }\n",
       "</style>\n",
       "<table border=\"1\" class=\"dataframe\">\n",
       "  <thead>\n",
       "    <tr style=\"text-align: right;\">\n",
       "      <th></th>\n",
       "      <th>text</th>\n",
       "      <th>label</th>\n",
       "    </tr>\n",
       "  </thead>\n",
       "  <tbody>\n",
       "    <tr>\n",
       "      <th>0</th>\n",
       "      <td>nice</td>\n",
       "      <td>1</td>\n",
       "    </tr>\n",
       "    <tr>\n",
       "      <th>1</th>\n",
       "      <td>excellent</td>\n",
       "      <td>1</td>\n",
       "    </tr>\n",
       "    <tr>\n",
       "      <th>2</th>\n",
       "      <td>good</td>\n",
       "      <td>1</td>\n",
       "    </tr>\n",
       "    <tr>\n",
       "      <th>3</th>\n",
       "      <td>wonderful</td>\n",
       "      <td>1</td>\n",
       "    </tr>\n",
       "    <tr>\n",
       "      <th>4</th>\n",
       "      <td>best</td>\n",
       "      <td>1</td>\n",
       "    </tr>\n",
       "    <tr>\n",
       "      <th>5</th>\n",
       "      <td>better</td>\n",
       "      <td>1</td>\n",
       "    </tr>\n",
       "    <tr>\n",
       "      <th>6</th>\n",
       "      <td>awesome</td>\n",
       "      <td>1</td>\n",
       "    </tr>\n",
       "    <tr>\n",
       "      <th>7</th>\n",
       "      <td>beautiful</td>\n",
       "      <td>1</td>\n",
       "    </tr>\n",
       "    <tr>\n",
       "      <th>8</th>\n",
       "      <td>beauty</td>\n",
       "      <td>1</td>\n",
       "    </tr>\n",
       "    <tr>\n",
       "      <th>9</th>\n",
       "      <td>beautifully</td>\n",
       "      <td>1</td>\n",
       "    </tr>\n",
       "    <tr>\n",
       "      <th>10</th>\n",
       "      <td>supreme</td>\n",
       "      <td>1</td>\n",
       "    </tr>\n",
       "  </tbody>\n",
       "</table>\n",
       "</div>"
      ],
      "text/plain": [
       "           text  label\n",
       "0          nice      1\n",
       "1     excellent      1\n",
       "2          good      1\n",
       "3     wonderful      1\n",
       "4          best      1\n",
       "5        better      1\n",
       "6       awesome      1\n",
       "7     beautiful      1\n",
       "8        beauty      1\n",
       "9   beautifully      1\n",
       "10      supreme      1"
      ]
     },
     "execution_count": 79,
     "metadata": {},
     "output_type": "execute_result"
    }
   ],
   "source": [
    "nlp_df"
   ]
  },
  {
   "cell_type": "code",
   "execution_count": 80,
   "metadata": {},
   "outputs": [
    {
     "data": {
      "text/plain": [
       "1    11\n",
       "Name: label, dtype: int64"
      ]
     },
     "execution_count": 80,
     "metadata": {},
     "output_type": "execute_result"
    }
   ],
   "source": [
    "nlp_df['label'].value_counts()"
   ]
  },
  {
   "cell_type": "code",
   "execution_count": 81,
   "metadata": {},
   "outputs": [
    {
     "name": "stderr",
     "output_type": "stream",
     "text": [
      "[nltk_data] Downloading package vader_lexicon to\n",
      "[nltk_data]     C:\\Users\\kmuthu2\\AppData\\Roaming\\nltk_data...\n",
      "[nltk_data]   Package vader_lexicon is already up-to-date!\n"
     ]
    },
    {
     "data": {
      "text/plain": [
       "True"
      ]
     },
     "execution_count": 81,
     "metadata": {},
     "output_type": "execute_result"
    }
   ],
   "source": [
    "nltk.download('vader_lexicon')"
   ]
  },
  {
   "cell_type": "code",
   "execution_count": 82,
   "metadata": {},
   "outputs": [],
   "source": [
    "from nltk.sentiment.vader import SentimentIntensityAnalyzer\n",
    "\n",
    "sid = SentimentIntensityAnalyzer()"
   ]
  },
  {
   "cell_type": "code",
   "execution_count": 83,
   "metadata": {},
   "outputs": [],
   "source": [
    "nlp_df['scores'] = nlp_df['text'].apply(lambda review: sid.polarity_scores(review))\n",
    "\n",
    "nlp_df['compound']  = nlp_df['scores'].apply(lambda score_dict: score_dict['compound'])\n",
    "\n",
    "nlp_df['comp_score'] = nlp_df['compound'].apply(lambda c: 'pos' if c >=0 else 'neg')"
   ]
  },
  {
   "cell_type": "code",
   "execution_count": 84,
   "metadata": {},
   "outputs": [
    {
     "data": {
      "text/html": [
       "<div>\n",
       "<style scoped>\n",
       "    .dataframe tbody tr th:only-of-type {\n",
       "        vertical-align: middle;\n",
       "    }\n",
       "\n",
       "    .dataframe tbody tr th {\n",
       "        vertical-align: top;\n",
       "    }\n",
       "\n",
       "    .dataframe thead th {\n",
       "        text-align: right;\n",
       "    }\n",
       "</style>\n",
       "<table border=\"1\" class=\"dataframe\">\n",
       "  <thead>\n",
       "    <tr style=\"text-align: right;\">\n",
       "      <th></th>\n",
       "      <th>text</th>\n",
       "      <th>label</th>\n",
       "      <th>scores</th>\n",
       "      <th>compound</th>\n",
       "      <th>comp_score</th>\n",
       "    </tr>\n",
       "  </thead>\n",
       "  <tbody>\n",
       "    <tr>\n",
       "      <th>0</th>\n",
       "      <td>nice</td>\n",
       "      <td>1</td>\n",
       "      <td>{'neg': 0.0, 'neu': 0.0, 'pos': 1.0, 'compound...</td>\n",
       "      <td>0.4215</td>\n",
       "      <td>pos</td>\n",
       "    </tr>\n",
       "    <tr>\n",
       "      <th>1</th>\n",
       "      <td>excellent</td>\n",
       "      <td>1</td>\n",
       "      <td>{'neg': 0.0, 'neu': 0.0, 'pos': 1.0, 'compound...</td>\n",
       "      <td>0.5719</td>\n",
       "      <td>pos</td>\n",
       "    </tr>\n",
       "    <tr>\n",
       "      <th>2</th>\n",
       "      <td>good</td>\n",
       "      <td>1</td>\n",
       "      <td>{'neg': 0.0, 'neu': 0.0, 'pos': 1.0, 'compound...</td>\n",
       "      <td>0.4404</td>\n",
       "      <td>pos</td>\n",
       "    </tr>\n",
       "    <tr>\n",
       "      <th>3</th>\n",
       "      <td>wonderful</td>\n",
       "      <td>1</td>\n",
       "      <td>{'neg': 0.0, 'neu': 0.0, 'pos': 1.0, 'compound...</td>\n",
       "      <td>0.5719</td>\n",
       "      <td>pos</td>\n",
       "    </tr>\n",
       "    <tr>\n",
       "      <th>4</th>\n",
       "      <td>best</td>\n",
       "      <td>1</td>\n",
       "      <td>{'neg': 0.0, 'neu': 0.0, 'pos': 1.0, 'compound...</td>\n",
       "      <td>0.6369</td>\n",
       "      <td>pos</td>\n",
       "    </tr>\n",
       "    <tr>\n",
       "      <th>5</th>\n",
       "      <td>better</td>\n",
       "      <td>1</td>\n",
       "      <td>{'neg': 0.0, 'neu': 0.0, 'pos': 1.0, 'compound...</td>\n",
       "      <td>0.4404</td>\n",
       "      <td>pos</td>\n",
       "    </tr>\n",
       "    <tr>\n",
       "      <th>6</th>\n",
       "      <td>awesome</td>\n",
       "      <td>1</td>\n",
       "      <td>{'neg': 0.0, 'neu': 0.0, 'pos': 1.0, 'compound...</td>\n",
       "      <td>0.6249</td>\n",
       "      <td>pos</td>\n",
       "    </tr>\n",
       "    <tr>\n",
       "      <th>7</th>\n",
       "      <td>beautiful</td>\n",
       "      <td>1</td>\n",
       "      <td>{'neg': 0.0, 'neu': 0.0, 'pos': 1.0, 'compound...</td>\n",
       "      <td>0.5994</td>\n",
       "      <td>pos</td>\n",
       "    </tr>\n",
       "    <tr>\n",
       "      <th>8</th>\n",
       "      <td>beauty</td>\n",
       "      <td>1</td>\n",
       "      <td>{'neg': 0.0, 'neu': 0.0, 'pos': 1.0, 'compound...</td>\n",
       "      <td>0.5859</td>\n",
       "      <td>pos</td>\n",
       "    </tr>\n",
       "    <tr>\n",
       "      <th>9</th>\n",
       "      <td>beautifully</td>\n",
       "      <td>1</td>\n",
       "      <td>{'neg': 0.0, 'neu': 0.0, 'pos': 1.0, 'compound...</td>\n",
       "      <td>0.5719</td>\n",
       "      <td>pos</td>\n",
       "    </tr>\n",
       "    <tr>\n",
       "      <th>10</th>\n",
       "      <td>supreme</td>\n",
       "      <td>1</td>\n",
       "      <td>{'neg': 0.0, 'neu': 0.0, 'pos': 1.0, 'compound...</td>\n",
       "      <td>0.5574</td>\n",
       "      <td>pos</td>\n",
       "    </tr>\n",
       "  </tbody>\n",
       "</table>\n",
       "</div>"
      ],
      "text/plain": [
       "           text  label                                             scores  \\\n",
       "0          nice      1  {'neg': 0.0, 'neu': 0.0, 'pos': 1.0, 'compound...   \n",
       "1     excellent      1  {'neg': 0.0, 'neu': 0.0, 'pos': 1.0, 'compound...   \n",
       "2          good      1  {'neg': 0.0, 'neu': 0.0, 'pos': 1.0, 'compound...   \n",
       "3     wonderful      1  {'neg': 0.0, 'neu': 0.0, 'pos': 1.0, 'compound...   \n",
       "4          best      1  {'neg': 0.0, 'neu': 0.0, 'pos': 1.0, 'compound...   \n",
       "5        better      1  {'neg': 0.0, 'neu': 0.0, 'pos': 1.0, 'compound...   \n",
       "6       awesome      1  {'neg': 0.0, 'neu': 0.0, 'pos': 1.0, 'compound...   \n",
       "7     beautiful      1  {'neg': 0.0, 'neu': 0.0, 'pos': 1.0, 'compound...   \n",
       "8        beauty      1  {'neg': 0.0, 'neu': 0.0, 'pos': 1.0, 'compound...   \n",
       "9   beautifully      1  {'neg': 0.0, 'neu': 0.0, 'pos': 1.0, 'compound...   \n",
       "10      supreme      1  {'neg': 0.0, 'neu': 0.0, 'pos': 1.0, 'compound...   \n",
       "\n",
       "    compound comp_score  \n",
       "0     0.4215        pos  \n",
       "1     0.5719        pos  \n",
       "2     0.4404        pos  \n",
       "3     0.5719        pos  \n",
       "4     0.6369        pos  \n",
       "5     0.4404        pos  \n",
       "6     0.6249        pos  \n",
       "7     0.5994        pos  \n",
       "8     0.5859        pos  \n",
       "9     0.5719        pos  \n",
       "10    0.5574        pos  "
      ]
     },
     "execution_count": 84,
     "metadata": {},
     "output_type": "execute_result"
    }
   ],
   "source": [
    "nlp_df"
   ]
  },
  {
   "cell_type": "code",
   "execution_count": 85,
   "metadata": {},
   "outputs": [],
   "source": [
    "nlp_df.label = nlp_df.label.apply(lambda c: 'pos' if c ==1 else 'neg')"
   ]
  },
  {
   "cell_type": "code",
   "execution_count": 86,
   "metadata": {},
   "outputs": [
    {
     "data": {
      "text/html": [
       "<div>\n",
       "<style scoped>\n",
       "    .dataframe tbody tr th:only-of-type {\n",
       "        vertical-align: middle;\n",
       "    }\n",
       "\n",
       "    .dataframe tbody tr th {\n",
       "        vertical-align: top;\n",
       "    }\n",
       "\n",
       "    .dataframe thead th {\n",
       "        text-align: right;\n",
       "    }\n",
       "</style>\n",
       "<table border=\"1\" class=\"dataframe\">\n",
       "  <thead>\n",
       "    <tr style=\"text-align: right;\">\n",
       "      <th></th>\n",
       "      <th>text</th>\n",
       "      <th>label</th>\n",
       "      <th>scores</th>\n",
       "      <th>compound</th>\n",
       "      <th>comp_score</th>\n",
       "    </tr>\n",
       "  </thead>\n",
       "  <tbody>\n",
       "    <tr>\n",
       "      <th>0</th>\n",
       "      <td>nice</td>\n",
       "      <td>pos</td>\n",
       "      <td>{'neg': 0.0, 'neu': 0.0, 'pos': 1.0, 'compound...</td>\n",
       "      <td>0.4215</td>\n",
       "      <td>pos</td>\n",
       "    </tr>\n",
       "    <tr>\n",
       "      <th>1</th>\n",
       "      <td>excellent</td>\n",
       "      <td>pos</td>\n",
       "      <td>{'neg': 0.0, 'neu': 0.0, 'pos': 1.0, 'compound...</td>\n",
       "      <td>0.5719</td>\n",
       "      <td>pos</td>\n",
       "    </tr>\n",
       "    <tr>\n",
       "      <th>2</th>\n",
       "      <td>good</td>\n",
       "      <td>pos</td>\n",
       "      <td>{'neg': 0.0, 'neu': 0.0, 'pos': 1.0, 'compound...</td>\n",
       "      <td>0.4404</td>\n",
       "      <td>pos</td>\n",
       "    </tr>\n",
       "    <tr>\n",
       "      <th>3</th>\n",
       "      <td>wonderful</td>\n",
       "      <td>pos</td>\n",
       "      <td>{'neg': 0.0, 'neu': 0.0, 'pos': 1.0, 'compound...</td>\n",
       "      <td>0.5719</td>\n",
       "      <td>pos</td>\n",
       "    </tr>\n",
       "    <tr>\n",
       "      <th>4</th>\n",
       "      <td>best</td>\n",
       "      <td>pos</td>\n",
       "      <td>{'neg': 0.0, 'neu': 0.0, 'pos': 1.0, 'compound...</td>\n",
       "      <td>0.6369</td>\n",
       "      <td>pos</td>\n",
       "    </tr>\n",
       "    <tr>\n",
       "      <th>5</th>\n",
       "      <td>better</td>\n",
       "      <td>pos</td>\n",
       "      <td>{'neg': 0.0, 'neu': 0.0, 'pos': 1.0, 'compound...</td>\n",
       "      <td>0.4404</td>\n",
       "      <td>pos</td>\n",
       "    </tr>\n",
       "    <tr>\n",
       "      <th>6</th>\n",
       "      <td>awesome</td>\n",
       "      <td>pos</td>\n",
       "      <td>{'neg': 0.0, 'neu': 0.0, 'pos': 1.0, 'compound...</td>\n",
       "      <td>0.6249</td>\n",
       "      <td>pos</td>\n",
       "    </tr>\n",
       "    <tr>\n",
       "      <th>7</th>\n",
       "      <td>beautiful</td>\n",
       "      <td>pos</td>\n",
       "      <td>{'neg': 0.0, 'neu': 0.0, 'pos': 1.0, 'compound...</td>\n",
       "      <td>0.5994</td>\n",
       "      <td>pos</td>\n",
       "    </tr>\n",
       "    <tr>\n",
       "      <th>8</th>\n",
       "      <td>beauty</td>\n",
       "      <td>pos</td>\n",
       "      <td>{'neg': 0.0, 'neu': 0.0, 'pos': 1.0, 'compound...</td>\n",
       "      <td>0.5859</td>\n",
       "      <td>pos</td>\n",
       "    </tr>\n",
       "    <tr>\n",
       "      <th>9</th>\n",
       "      <td>beautifully</td>\n",
       "      <td>pos</td>\n",
       "      <td>{'neg': 0.0, 'neu': 0.0, 'pos': 1.0, 'compound...</td>\n",
       "      <td>0.5719</td>\n",
       "      <td>pos</td>\n",
       "    </tr>\n",
       "    <tr>\n",
       "      <th>10</th>\n",
       "      <td>supreme</td>\n",
       "      <td>pos</td>\n",
       "      <td>{'neg': 0.0, 'neu': 0.0, 'pos': 1.0, 'compound...</td>\n",
       "      <td>0.5574</td>\n",
       "      <td>pos</td>\n",
       "    </tr>\n",
       "  </tbody>\n",
       "</table>\n",
       "</div>"
      ],
      "text/plain": [
       "           text label                                             scores  \\\n",
       "0          nice   pos  {'neg': 0.0, 'neu': 0.0, 'pos': 1.0, 'compound...   \n",
       "1     excellent   pos  {'neg': 0.0, 'neu': 0.0, 'pos': 1.0, 'compound...   \n",
       "2          good   pos  {'neg': 0.0, 'neu': 0.0, 'pos': 1.0, 'compound...   \n",
       "3     wonderful   pos  {'neg': 0.0, 'neu': 0.0, 'pos': 1.0, 'compound...   \n",
       "4          best   pos  {'neg': 0.0, 'neu': 0.0, 'pos': 1.0, 'compound...   \n",
       "5        better   pos  {'neg': 0.0, 'neu': 0.0, 'pos': 1.0, 'compound...   \n",
       "6       awesome   pos  {'neg': 0.0, 'neu': 0.0, 'pos': 1.0, 'compound...   \n",
       "7     beautiful   pos  {'neg': 0.0, 'neu': 0.0, 'pos': 1.0, 'compound...   \n",
       "8        beauty   pos  {'neg': 0.0, 'neu': 0.0, 'pos': 1.0, 'compound...   \n",
       "9   beautifully   pos  {'neg': 0.0, 'neu': 0.0, 'pos': 1.0, 'compound...   \n",
       "10      supreme   pos  {'neg': 0.0, 'neu': 0.0, 'pos': 1.0, 'compound...   \n",
       "\n",
       "    compound comp_score  \n",
       "0     0.4215        pos  \n",
       "1     0.5719        pos  \n",
       "2     0.4404        pos  \n",
       "3     0.5719        pos  \n",
       "4     0.6369        pos  \n",
       "5     0.4404        pos  \n",
       "6     0.6249        pos  \n",
       "7     0.5994        pos  \n",
       "8     0.5859        pos  \n",
       "9     0.5719        pos  \n",
       "10    0.5574        pos  "
      ]
     },
     "execution_count": 86,
     "metadata": {},
     "output_type": "execute_result"
    }
   ],
   "source": [
    "nlp_df"
   ]
  },
  {
   "cell_type": "code",
   "execution_count": 87,
   "metadata": {},
   "outputs": [],
   "source": [
    "from sklearn.metrics import accuracy_score,classification_report,confusion_matrix"
   ]
  },
  {
   "cell_type": "code",
   "execution_count": 88,
   "metadata": {},
   "outputs": [
    {
     "data": {
      "text/plain": [
       "1.0"
      ]
     },
     "execution_count": 88,
     "metadata": {},
     "output_type": "execute_result"
    }
   ],
   "source": [
    "accuracy_score(nlp_df['label'],nlp_df['comp_score'])"
   ]
  },
  {
   "cell_type": "code",
   "execution_count": 89,
   "metadata": {},
   "outputs": [
    {
     "name": "stdout",
     "output_type": "stream",
     "text": [
      "              precision    recall  f1-score   support\n",
      "\n",
      "         pos       1.00      1.00      1.00        11\n",
      "\n",
      "    accuracy                           1.00        11\n",
      "   macro avg       1.00      1.00      1.00        11\n",
      "weighted avg       1.00      1.00      1.00        11\n",
      "\n"
     ]
    }
   ],
   "source": [
    "print(classification_report(nlp_df['label'],nlp_df['comp_score']))"
   ]
  },
  {
   "cell_type": "code",
   "execution_count": 90,
   "metadata": {},
   "outputs": [
    {
     "name": "stdout",
     "output_type": "stream",
     "text": [
      "[[11]]\n"
     ]
    }
   ],
   "source": [
    "print(confusion_matrix(nlp_df['label'],nlp_df['comp_score']))"
   ]
  },
  {
   "cell_type": "markdown",
   "metadata": {},
   "source": [
    "# Machine Learning "
   ]
  },
  {
   "cell_type": "markdown",
   "metadata": {},
   "source": [
    "**Univariate Regression**"
   ]
  },
  {
   "cell_type": "code",
   "execution_count": 91,
   "metadata": {},
   "outputs": [],
   "source": [
    "# Exercise 1"
   ]
  },
  {
   "cell_type": "code",
   "execution_count": 92,
   "metadata": {},
   "outputs": [],
   "source": [
    "# pd.read_csv(' https://archive.ics.uci.edu/ml/machine-learningdatabases/auto-mpg/')"
   ]
  },
  {
   "cell_type": "code",
   "execution_count": 93,
   "metadata": {},
   "outputs": [],
   "source": [
    "# UCI Directory giving 404 error , so downloaded auto-mpg dataset from kaggle , Thanks"
   ]
  },
  {
   "cell_type": "code",
   "execution_count": 94,
   "metadata": {},
   "outputs": [
    {
     "data": {
      "text/html": [
       "\n",
       "        <iframe\n",
       "            width=\"600\"\n",
       "            height=\"300\"\n",
       "            src=\"uci_404.png\"\n",
       "            frameborder=\"0\"\n",
       "            allowfullscreen\n",
       "        ></iframe>\n",
       "        "
      ],
      "text/plain": [
       "<IPython.lib.display.IFrame at 0x19e03f11248>"
      ]
     },
     "execution_count": 94,
     "metadata": {},
     "output_type": "execute_result"
    }
   ],
   "source": [
    "from IPython.display import IFrame\n",
    "IFrame(\"uci_404.png\", width=600, height=300)"
   ]
  },
  {
   "cell_type": "code",
   "execution_count": 95,
   "metadata": {},
   "outputs": [
    {
     "data": {
      "application/javascript": [
       "\n",
       "        if (window._pyforest_update_imports_cell) { window._pyforest_update_imports_cell('import pandas as pd\\nimport numpy as np'); }\n",
       "    "
      ],
      "text/plain": [
       "<IPython.core.display.Javascript object>"
      ]
     },
     "metadata": {},
     "output_type": "display_data"
    },
    {
     "data": {
      "text/html": [
       "<div>\n",
       "<style scoped>\n",
       "    .dataframe tbody tr th:only-of-type {\n",
       "        vertical-align: middle;\n",
       "    }\n",
       "\n",
       "    .dataframe tbody tr th {\n",
       "        vertical-align: top;\n",
       "    }\n",
       "\n",
       "    .dataframe thead th {\n",
       "        text-align: right;\n",
       "    }\n",
       "</style>\n",
       "<table border=\"1\" class=\"dataframe\">\n",
       "  <thead>\n",
       "    <tr style=\"text-align: right;\">\n",
       "      <th></th>\n",
       "      <th>mpg</th>\n",
       "      <th>cylinders</th>\n",
       "      <th>displacement</th>\n",
       "      <th>horsepower</th>\n",
       "      <th>weight</th>\n",
       "      <th>acceleration</th>\n",
       "      <th>model year</th>\n",
       "      <th>origin</th>\n",
       "      <th>car name</th>\n",
       "    </tr>\n",
       "  </thead>\n",
       "  <tbody>\n",
       "    <tr>\n",
       "      <th>0</th>\n",
       "      <td>18.0</td>\n",
       "      <td>8</td>\n",
       "      <td>307.0</td>\n",
       "      <td>130</td>\n",
       "      <td>3504</td>\n",
       "      <td>12.0</td>\n",
       "      <td>70</td>\n",
       "      <td>1</td>\n",
       "      <td>chevrolet chevelle malibu</td>\n",
       "    </tr>\n",
       "    <tr>\n",
       "      <th>1</th>\n",
       "      <td>15.0</td>\n",
       "      <td>8</td>\n",
       "      <td>350.0</td>\n",
       "      <td>165</td>\n",
       "      <td>3693</td>\n",
       "      <td>11.5</td>\n",
       "      <td>70</td>\n",
       "      <td>1</td>\n",
       "      <td>buick skylark 320</td>\n",
       "    </tr>\n",
       "    <tr>\n",
       "      <th>2</th>\n",
       "      <td>18.0</td>\n",
       "      <td>8</td>\n",
       "      <td>318.0</td>\n",
       "      <td>150</td>\n",
       "      <td>3436</td>\n",
       "      <td>11.0</td>\n",
       "      <td>70</td>\n",
       "      <td>1</td>\n",
       "      <td>plymouth satellite</td>\n",
       "    </tr>\n",
       "    <tr>\n",
       "      <th>3</th>\n",
       "      <td>16.0</td>\n",
       "      <td>8</td>\n",
       "      <td>304.0</td>\n",
       "      <td>150</td>\n",
       "      <td>3433</td>\n",
       "      <td>12.0</td>\n",
       "      <td>70</td>\n",
       "      <td>1</td>\n",
       "      <td>amc rebel sst</td>\n",
       "    </tr>\n",
       "    <tr>\n",
       "      <th>4</th>\n",
       "      <td>17.0</td>\n",
       "      <td>8</td>\n",
       "      <td>302.0</td>\n",
       "      <td>140</td>\n",
       "      <td>3449</td>\n",
       "      <td>10.5</td>\n",
       "      <td>70</td>\n",
       "      <td>1</td>\n",
       "      <td>ford torino</td>\n",
       "    </tr>\n",
       "  </tbody>\n",
       "</table>\n",
       "</div>"
      ],
      "text/plain": [
       "    mpg  cylinders  displacement horsepower  weight  acceleration  model year  \\\n",
       "0  18.0          8         307.0        130    3504          12.0          70   \n",
       "1  15.0          8         350.0        165    3693          11.5          70   \n",
       "2  18.0          8         318.0        150    3436          11.0          70   \n",
       "3  16.0          8         304.0        150    3433          12.0          70   \n",
       "4  17.0          8         302.0        140    3449          10.5          70   \n",
       "\n",
       "   origin                   car name  \n",
       "0       1  chevrolet chevelle malibu  \n",
       "1       1          buick skylark 320  \n",
       "2       1         plymouth satellite  \n",
       "3       1              amc rebel sst  \n",
       "4       1                ford torino  "
      ]
     },
     "execution_count": 95,
     "metadata": {},
     "output_type": "execute_result"
    }
   ],
   "source": [
    "auto = pd.read_csv('auto-mpg.csv')\n",
    "auto.head()"
   ]
  },
  {
   "cell_type": "code",
   "execution_count": 96,
   "metadata": {},
   "outputs": [
    {
     "data": {
      "text/plain": [
       "(398, 9)"
      ]
     },
     "execution_count": 96,
     "metadata": {},
     "output_type": "execute_result"
    }
   ],
   "source": [
    "auto.shape"
   ]
  },
  {
   "cell_type": "code",
   "execution_count": 97,
   "metadata": {},
   "outputs": [],
   "source": [
    "# Exercise 2"
   ]
  },
  {
   "cell_type": "code",
   "execution_count": 98,
   "metadata": {},
   "outputs": [],
   "source": [
    "from sklearn import linear_model"
   ]
  },
  {
   "cell_type": "code",
   "execution_count": 99,
   "metadata": {},
   "outputs": [],
   "source": [
    "# Exercise 3"
   ]
  },
  {
   "cell_type": "code",
   "execution_count": 100,
   "metadata": {},
   "outputs": [],
   "source": [
    "from sklearn.model_selection import train_test_split"
   ]
  },
  {
   "cell_type": "code",
   "execution_count": 101,
   "metadata": {},
   "outputs": [
    {
     "data": {
      "text/plain": [
       "mpg             0\n",
       "cylinders       0\n",
       "displacement    0\n",
       "horsepower      0\n",
       "weight          0\n",
       "acceleration    0\n",
       "model year      0\n",
       "origin          0\n",
       "car name        0\n",
       "dtype: int64"
      ]
     },
     "execution_count": 101,
     "metadata": {},
     "output_type": "execute_result"
    }
   ],
   "source": [
    "auto.isnull().sum()"
   ]
  },
  {
   "cell_type": "code",
   "execution_count": 102,
   "metadata": {},
   "outputs": [],
   "source": [
    "# As this is univariate regression taking one independent and one dependent variable "
   ]
  },
  {
   "cell_type": "code",
   "execution_count": 103,
   "metadata": {},
   "outputs": [
    {
     "data": {
      "text/plain": [
       "0      130\n",
       "1      165\n",
       "2      150\n",
       "3      150\n",
       "4      140\n",
       "      ... \n",
       "393     86\n",
       "394     52\n",
       "395     84\n",
       "396     79\n",
       "397     82\n",
       "Name: horsepower, Length: 398, dtype: object"
      ]
     },
     "execution_count": 103,
     "metadata": {},
     "output_type": "execute_result"
    }
   ],
   "source": [
    "auto.horsepower"
   ]
  },
  {
   "cell_type": "code",
   "execution_count": 104,
   "metadata": {},
   "outputs": [
    {
     "data": {
      "text/plain": [
       "0      18.0\n",
       "1      15.0\n",
       "2      18.0\n",
       "3      16.0\n",
       "4      17.0\n",
       "       ... \n",
       "393    27.0\n",
       "394    44.0\n",
       "395    32.0\n",
       "396    28.0\n",
       "397    31.0\n",
       "Name: mpg, Length: 398, dtype: float64"
      ]
     },
     "execution_count": 104,
     "metadata": {},
     "output_type": "execute_result"
    }
   ],
   "source": [
    "auto.mpg"
   ]
  },
  {
   "cell_type": "code",
   "execution_count": 105,
   "metadata": {},
   "outputs": [],
   "source": [
    "import seaborn as sns"
   ]
  },
  {
   "cell_type": "code",
   "execution_count": 106,
   "metadata": {},
   "outputs": [],
   "source": [
    "import matplotlib\n",
    "import matplotlib.pyplot as plt"
   ]
  },
  {
   "cell_type": "code",
   "execution_count": 107,
   "metadata": {},
   "outputs": [],
   "source": [
    "import matplotlib.pyplot as plt"
   ]
  },
  {
   "cell_type": "code",
   "execution_count": 108,
   "metadata": {},
   "outputs": [
    {
     "data": {
      "image/png": "[encoded data removed]",
      "text/plain": [
       "<Figure size 432x288 with 2 Axes>"
      ]
     },
     "metadata": {
      "needs_background": "light"
     },
     "output_type": "display_data"
    }
   ],
   "source": [
    "sns.heatmap(auto.corr())\n",
    "plt.show()"
   ]
  },
  {
   "cell_type": "code",
   "execution_count": 109,
   "metadata": {},
   "outputs": [],
   "source": [
    "# Gonna build model that predicts weight using displacement as it seems to have a positive correlation"
   ]
  },
  {
   "cell_type": "code",
   "execution_count": 110,
   "metadata": {},
   "outputs": [],
   "source": [
    "X = auto.displacement"
   ]
  },
  {
   "cell_type": "code",
   "execution_count": 111,
   "metadata": {},
   "outputs": [],
   "source": [
    "y = auto.weight"
   ]
  },
  {
   "cell_type": "code",
   "execution_count": 112,
   "metadata": {},
   "outputs": [],
   "source": [
    "X_train, X_test, y_train, y_test = train_test_split(X, y, test_size=0.20, random_state=42)"
   ]
  },
  {
   "cell_type": "code",
   "execution_count": 113,
   "metadata": {},
   "outputs": [],
   "source": [
    "X_train = X_train.values.reshape(-1, 1)"
   ]
  },
  {
   "cell_type": "code",
   "execution_count": 114,
   "metadata": {},
   "outputs": [],
   "source": [
    "y_train = y_train.values.reshape(-1, 1)"
   ]
  },
  {
   "cell_type": "code",
   "execution_count": 115,
   "metadata": {},
   "outputs": [],
   "source": [
    "X_test = X_test.values.reshape(-1, 1)"
   ]
  },
  {
   "cell_type": "code",
   "execution_count": 116,
   "metadata": {},
   "outputs": [],
   "source": [
    "y_test = y_test.values.reshape(-1, 1)"
   ]
  },
  {
   "cell_type": "code",
   "execution_count": 117,
   "metadata": {},
   "outputs": [],
   "source": [
    "# Exercise 4 and 5"
   ]
  },
  {
   "cell_type": "code",
   "execution_count": 118,
   "metadata": {},
   "outputs": [],
   "source": [
    "model = linear_model.LinearRegression()"
   ]
  },
  {
   "cell_type": "code",
   "execution_count": 119,
   "metadata": {},
   "outputs": [
    {
     "data": {
      "text/plain": [
       "LinearRegression(copy_X=True, fit_intercept=True, n_jobs=None, normalize=False)"
      ]
     },
     "execution_count": 119,
     "metadata": {},
     "output_type": "execute_result"
    }
   ],
   "source": [
    "model.fit(X_train , y_train)"
   ]
  },
  {
   "cell_type": "code",
   "execution_count": 120,
   "metadata": {},
   "outputs": [],
   "source": [
    "# Exercise 6"
   ]
  },
  {
   "cell_type": "markdown",
   "metadata": {},
   "source": [
    "The formula is **Y = m*x +c** here **M is coefficient**"
   ]
  },
  {
   "cell_type": "code",
   "execution_count": 121,
   "metadata": {},
   "outputs": [
    {
     "data": {
      "text/plain": [
       "array([[7.58698586]])"
      ]
     },
     "execution_count": 121,
     "metadata": {},
     "output_type": "execute_result"
    }
   ],
   "source": [
    "model.coef_"
   ]
  },
  {
   "cell_type": "code",
   "execution_count": 122,
   "metadata": {},
   "outputs": [
    {
     "data": {
      "text/plain": [
       "array([1513.04212134])"
      ]
     },
     "execution_count": 122,
     "metadata": {},
     "output_type": "execute_result"
    }
   ],
   "source": [
    "model.intercept_"
   ]
  },
  {
   "cell_type": "code",
   "execution_count": 123,
   "metadata": {},
   "outputs": [],
   "source": [
    "# Exercise 7"
   ]
  },
  {
   "cell_type": "code",
   "execution_count": 124,
   "metadata": {},
   "outputs": [
    {
     "data": {
      "text/plain": [
       "array([[2203.45783432],\n",
       "       [2423.48042417],\n",
       "       [3273.22284015],\n",
       "       [3925.70362385],\n",
       "       [3925.70362385],\n",
       "       [2248.97974946],\n",
       "       [2575.22014131],\n",
       "       [4851.3158984 ],\n",
       "       [3485.65844415],\n",
       "       [3030.43929273],\n",
       "       [4471.96660555],\n",
       "       [2203.45783432],\n",
       "       [2203.45783432],\n",
       "       [3819.48582186],\n",
       "       [2575.22014131],\n",
       "       [4418.85770456],\n",
       "       [2362.78453732],\n",
       "       [2749.72081602],\n",
       "       [4547.83646412],\n",
       "       [2203.45783432],\n",
       "       [2431.06741003],\n",
       "       [3015.26532102],\n",
       "       [3273.22284015],\n",
       "       [2256.56673532],\n",
       "       [3842.24677943],\n",
       "       [2248.97974946],\n",
       "       [2256.56673532],\n",
       "       [2658.67698574],\n",
       "       [3470.48447244],\n",
       "       [4547.83646412],\n",
       "       [2575.22014131],\n",
       "       [2309.67563632],\n",
       "       [4168.48717128],\n",
       "       [2370.37152318],\n",
       "       [2165.52290504],\n",
       "       [4547.83646412],\n",
       "       [2689.02492917],\n",
       "       [3827.07280771],\n",
       "       [3925.70362385],\n",
       "       [2256.56673532],\n",
       "       [2825.59067459],\n",
       "       [2248.97974946],\n",
       "       [2431.06741003],\n",
       "       [4244.35702985],\n",
       "       [2423.48042417],\n",
       "       [2423.48042417],\n",
       "       [2393.13248075],\n",
       "       [2431.06741003],\n",
       "       [2302.08865046],\n",
       "       [2195.87084847],\n",
       "       [2575.22014131],\n",
       "       [2165.52290504],\n",
       "       [2324.84960803],\n",
       "       [4547.83646412],\n",
       "       [2825.59067459],\n",
       "       [4547.83646412],\n",
       "       [4244.35702985],\n",
       "       [2529.69822617],\n",
       "       [2575.22014131],\n",
       "       [3220.11393916],\n",
       "       [4168.48717128],\n",
       "       [2203.45783432],\n",
       "       [2575.22014131],\n",
       "       [2423.48042417],\n",
       "       [3015.26532102],\n",
       "       [2370.37152318],\n",
       "       [2658.67698574],\n",
       "       [2256.56673532],\n",
       "       [2256.56673532],\n",
       "       [3842.24677943],\n",
       "       [2309.67563632],\n",
       "       [3819.48582186],\n",
       "       [4767.85905398],\n",
       "       [3470.48447244],\n",
       "       [2886.28656145],\n",
       "       [3485.65844415],\n",
       "       [3409.78858558],\n",
       "       [2362.78453732],\n",
       "       [2195.87084847],\n",
       "       [3827.07280771]])"
      ]
     },
     "execution_count": 124,
     "metadata": {},
     "output_type": "execute_result"
    }
   ],
   "source": [
    "y_pred = model.predict(X_test)\n",
    "y_pred"
   ]
  },
  {
   "cell_type": "code",
   "execution_count": 125,
   "metadata": {},
   "outputs": [],
   "source": [
    "# Exercise 8"
   ]
  },
  {
   "cell_type": "code",
   "execution_count": 126,
   "metadata": {},
   "outputs": [],
   "source": [
    "from sklearn import metrics"
   ]
  },
  {
   "cell_type": "code",
   "execution_count": 127,
   "metadata": {},
   "outputs": [
    {
     "name": "stdout",
     "output_type": "stream",
     "text": [
      "Mean Absolute Error: 234.6942981468898\n",
      "Mean Squared Error: 81591.50834625246\n"
     ]
    },
    {
     "data": {
      "application/javascript": [
       "\n",
       "        if (window._pyforest_update_imports_cell) { window._pyforest_update_imports_cell('import pandas as pd\\nimport numpy as np'); }\n",
       "    "
      ],
      "text/plain": [
       "<IPython.core.display.Javascript object>"
      ]
     },
     "metadata": {},
     "output_type": "display_data"
    },
    {
     "name": "stdout",
     "output_type": "stream",
     "text": [
      "Root Mean Squared Error: 285.64227338797815\n"
     ]
    }
   ],
   "source": [
    "print('Mean Absolute Error:', metrics.mean_absolute_error(y_test, y_pred))  \n",
    "print('Mean Squared Error:', metrics.mean_squared_error(y_test, y_pred))  \n",
    "print('Root Mean Squared Error:', np.sqrt(metrics.mean_squared_error(y_test, y_pred)))"
   ]
  },
  {
   "cell_type": "code",
   "execution_count": 128,
   "metadata": {},
   "outputs": [],
   "source": [
    "# Exercise 9"
   ]
  },
  {
   "cell_type": "code",
   "execution_count": 129,
   "metadata": {},
   "outputs": [
    {
     "data": {
      "image/png": "[encoded data removed]",
      "text/plain": [
       "<Figure size 432x288 with 1 Axes>"
      ]
     },
     "metadata": {
      "needs_background": "light"
     },
     "output_type": "display_data"
    }
   ],
   "source": [
    "plt.scatter(X_test , y_test ,  color='#ff34f6')\n",
    "plt.plot(X_test, y_pred , color='green', linewidth = 3)\n",
    "plt.show()"
   ]
  },
  {
   "cell_type": "markdown",
   "metadata": {},
   "source": [
    "**Multi-variate Regression**"
   ]
  },
  {
   "cell_type": "code",
   "execution_count": 130,
   "metadata": {},
   "outputs": [],
   "source": [
    "# Repeating above steps"
   ]
  },
  {
   "cell_type": "code",
   "execution_count": 131,
   "metadata": {},
   "outputs": [
    {
     "data": {
      "text/html": [
       "<div>\n",
       "<style scoped>\n",
       "    .dataframe tbody tr th:only-of-type {\n",
       "        vertical-align: middle;\n",
       "    }\n",
       "\n",
       "    .dataframe tbody tr th {\n",
       "        vertical-align: top;\n",
       "    }\n",
       "\n",
       "    .dataframe thead th {\n",
       "        text-align: right;\n",
       "    }\n",
       "</style>\n",
       "<table border=\"1\" class=\"dataframe\">\n",
       "  <thead>\n",
       "    <tr style=\"text-align: right;\">\n",
       "      <th></th>\n",
       "      <th>mpg</th>\n",
       "      <th>cylinders</th>\n",
       "      <th>displacement</th>\n",
       "      <th>horsepower</th>\n",
       "      <th>weight</th>\n",
       "      <th>acceleration</th>\n",
       "      <th>model year</th>\n",
       "      <th>origin</th>\n",
       "      <th>car name</th>\n",
       "    </tr>\n",
       "  </thead>\n",
       "  <tbody>\n",
       "    <tr>\n",
       "      <th>0</th>\n",
       "      <td>18.0</td>\n",
       "      <td>8</td>\n",
       "      <td>307.0</td>\n",
       "      <td>130</td>\n",
       "      <td>3504</td>\n",
       "      <td>12.0</td>\n",
       "      <td>70</td>\n",
       "      <td>1</td>\n",
       "      <td>chevrolet chevelle malibu</td>\n",
       "    </tr>\n",
       "    <tr>\n",
       "      <th>1</th>\n",
       "      <td>15.0</td>\n",
       "      <td>8</td>\n",
       "      <td>350.0</td>\n",
       "      <td>165</td>\n",
       "      <td>3693</td>\n",
       "      <td>11.5</td>\n",
       "      <td>70</td>\n",
       "      <td>1</td>\n",
       "      <td>buick skylark 320</td>\n",
       "    </tr>\n",
       "    <tr>\n",
       "      <th>2</th>\n",
       "      <td>18.0</td>\n",
       "      <td>8</td>\n",
       "      <td>318.0</td>\n",
       "      <td>150</td>\n",
       "      <td>3436</td>\n",
       "      <td>11.0</td>\n",
       "      <td>70</td>\n",
       "      <td>1</td>\n",
       "      <td>plymouth satellite</td>\n",
       "    </tr>\n",
       "    <tr>\n",
       "      <th>3</th>\n",
       "      <td>16.0</td>\n",
       "      <td>8</td>\n",
       "      <td>304.0</td>\n",
       "      <td>150</td>\n",
       "      <td>3433</td>\n",
       "      <td>12.0</td>\n",
       "      <td>70</td>\n",
       "      <td>1</td>\n",
       "      <td>amc rebel sst</td>\n",
       "    </tr>\n",
       "    <tr>\n",
       "      <th>4</th>\n",
       "      <td>17.0</td>\n",
       "      <td>8</td>\n",
       "      <td>302.0</td>\n",
       "      <td>140</td>\n",
       "      <td>3449</td>\n",
       "      <td>10.5</td>\n",
       "      <td>70</td>\n",
       "      <td>1</td>\n",
       "      <td>ford torino</td>\n",
       "    </tr>\n",
       "    <tr>\n",
       "      <th>...</th>\n",
       "      <td>...</td>\n",
       "      <td>...</td>\n",
       "      <td>...</td>\n",
       "      <td>...</td>\n",
       "      <td>...</td>\n",
       "      <td>...</td>\n",
       "      <td>...</td>\n",
       "      <td>...</td>\n",
       "      <td>...</td>\n",
       "    </tr>\n",
       "    <tr>\n",
       "      <th>393</th>\n",
       "      <td>27.0</td>\n",
       "      <td>4</td>\n",
       "      <td>140.0</td>\n",
       "      <td>86</td>\n",
       "      <td>2790</td>\n",
       "      <td>15.6</td>\n",
       "      <td>82</td>\n",
       "      <td>1</td>\n",
       "      <td>ford mustang gl</td>\n",
       "    </tr>\n",
       "    <tr>\n",
       "      <th>394</th>\n",
       "      <td>44.0</td>\n",
       "      <td>4</td>\n",
       "      <td>97.0</td>\n",
       "      <td>52</td>\n",
       "      <td>2130</td>\n",
       "      <td>24.6</td>\n",
       "      <td>82</td>\n",
       "      <td>2</td>\n",
       "      <td>vw pickup</td>\n",
       "    </tr>\n",
       "    <tr>\n",
       "      <th>395</th>\n",
       "      <td>32.0</td>\n",
       "      <td>4</td>\n",
       "      <td>135.0</td>\n",
       "      <td>84</td>\n",
       "      <td>2295</td>\n",
       "      <td>11.6</td>\n",
       "      <td>82</td>\n",
       "      <td>1</td>\n",
       "      <td>dodge rampage</td>\n",
       "    </tr>\n",
       "    <tr>\n",
       "      <th>396</th>\n",
       "      <td>28.0</td>\n",
       "      <td>4</td>\n",
       "      <td>120.0</td>\n",
       "      <td>79</td>\n",
       "      <td>2625</td>\n",
       "      <td>18.6</td>\n",
       "      <td>82</td>\n",
       "      <td>1</td>\n",
       "      <td>ford ranger</td>\n",
       "    </tr>\n",
       "    <tr>\n",
       "      <th>397</th>\n",
       "      <td>31.0</td>\n",
       "      <td>4</td>\n",
       "      <td>119.0</td>\n",
       "      <td>82</td>\n",
       "      <td>2720</td>\n",
       "      <td>19.4</td>\n",
       "      <td>82</td>\n",
       "      <td>1</td>\n",
       "      <td>chevy s-10</td>\n",
       "    </tr>\n",
       "  </tbody>\n",
       "</table>\n",
       "<p>398 rows × 9 columns</p>\n",
       "</div>"
      ],
      "text/plain": [
       "      mpg  cylinders  displacement horsepower  weight  acceleration  \\\n",
       "0    18.0          8         307.0        130    3504          12.0   \n",
       "1    15.0          8         350.0        165    3693          11.5   \n",
       "2    18.0          8         318.0        150    3436          11.0   \n",
       "3    16.0          8         304.0        150    3433          12.0   \n",
       "4    17.0          8         302.0        140    3449          10.5   \n",
       "..    ...        ...           ...        ...     ...           ...   \n",
       "393  27.0          4         140.0         86    2790          15.6   \n",
       "394  44.0          4          97.0         52    2130          24.6   \n",
       "395  32.0          4         135.0         84    2295          11.6   \n",
       "396  28.0          4         120.0         79    2625          18.6   \n",
       "397  31.0          4         119.0         82    2720          19.4   \n",
       "\n",
       "     model year  origin                   car name  \n",
       "0            70       1  chevrolet chevelle malibu  \n",
       "1            70       1          buick skylark 320  \n",
       "2            70       1         plymouth satellite  \n",
       "3            70       1              amc rebel sst  \n",
       "4            70       1                ford torino  \n",
       "..          ...     ...                        ...  \n",
       "393          82       1            ford mustang gl  \n",
       "394          82       2                  vw pickup  \n",
       "395          82       1              dodge rampage  \n",
       "396          82       1                ford ranger  \n",
       "397          82       1                 chevy s-10  \n",
       "\n",
       "[398 rows x 9 columns]"
      ]
     },
     "execution_count": 131,
     "metadata": {},
     "output_type": "execute_result"
    }
   ],
   "source": [
    "auto"
   ]
  },
  {
   "cell_type": "code",
   "execution_count": 132,
   "metadata": {},
   "outputs": [
    {
     "name": "stdout",
     "output_type": "stream",
     "text": [
      "<class 'pandas.core.frame.DataFrame'>\n",
      "RangeIndex: 398 entries, 0 to 397\n",
      "Data columns (total 9 columns):\n",
      "mpg             398 non-null float64\n",
      "cylinders       398 non-null int64\n",
      "displacement    398 non-null float64\n",
      "horsepower      398 non-null object\n",
      "weight          398 non-null int64\n",
      "acceleration    398 non-null float64\n",
      "model year      398 non-null int64\n",
      "origin          398 non-null int64\n",
      "car name        398 non-null object\n",
      "dtypes: float64(3), int64(4), object(2)\n",
      "memory usage: 28.1+ KB\n"
     ]
    }
   ],
   "source": [
    "auto.info()"
   ]
  },
  {
   "cell_type": "code",
   "execution_count": 133,
   "metadata": {},
   "outputs": [
    {
     "data": {
      "text/html": [
       "<div>\n",
       "<style scoped>\n",
       "    .dataframe tbody tr th:only-of-type {\n",
       "        vertical-align: middle;\n",
       "    }\n",
       "\n",
       "    .dataframe tbody tr th {\n",
       "        vertical-align: top;\n",
       "    }\n",
       "\n",
       "    .dataframe thead th {\n",
       "        text-align: right;\n",
       "    }\n",
       "</style>\n",
       "<table border=\"1\" class=\"dataframe\">\n",
       "  <thead>\n",
       "    <tr style=\"text-align: right;\">\n",
       "      <th></th>\n",
       "      <th>mpg</th>\n",
       "      <th>cylinders</th>\n",
       "      <th>displacement</th>\n",
       "      <th>horsepower</th>\n",
       "      <th>weight</th>\n",
       "      <th>acceleration</th>\n",
       "      <th>model year</th>\n",
       "      <th>origin</th>\n",
       "      <th>car name</th>\n",
       "    </tr>\n",
       "  </thead>\n",
       "  <tbody>\n",
       "    <tr>\n",
       "      <th>32</th>\n",
       "      <td>25.0</td>\n",
       "      <td>4</td>\n",
       "      <td>98.0</td>\n",
       "      <td>?</td>\n",
       "      <td>2046</td>\n",
       "      <td>19.0</td>\n",
       "      <td>71</td>\n",
       "      <td>1</td>\n",
       "      <td>ford pinto</td>\n",
       "    </tr>\n",
       "    <tr>\n",
       "      <th>126</th>\n",
       "      <td>21.0</td>\n",
       "      <td>6</td>\n",
       "      <td>200.0</td>\n",
       "      <td>?</td>\n",
       "      <td>2875</td>\n",
       "      <td>17.0</td>\n",
       "      <td>74</td>\n",
       "      <td>1</td>\n",
       "      <td>ford maverick</td>\n",
       "    </tr>\n",
       "    <tr>\n",
       "      <th>330</th>\n",
       "      <td>40.9</td>\n",
       "      <td>4</td>\n",
       "      <td>85.0</td>\n",
       "      <td>?</td>\n",
       "      <td>1835</td>\n",
       "      <td>17.3</td>\n",
       "      <td>80</td>\n",
       "      <td>2</td>\n",
       "      <td>renault lecar deluxe</td>\n",
       "    </tr>\n",
       "    <tr>\n",
       "      <th>336</th>\n",
       "      <td>23.6</td>\n",
       "      <td>4</td>\n",
       "      <td>140.0</td>\n",
       "      <td>?</td>\n",
       "      <td>2905</td>\n",
       "      <td>14.3</td>\n",
       "      <td>80</td>\n",
       "      <td>1</td>\n",
       "      <td>ford mustang cobra</td>\n",
       "    </tr>\n",
       "    <tr>\n",
       "      <th>354</th>\n",
       "      <td>34.5</td>\n",
       "      <td>4</td>\n",
       "      <td>100.0</td>\n",
       "      <td>?</td>\n",
       "      <td>2320</td>\n",
       "      <td>15.8</td>\n",
       "      <td>81</td>\n",
       "      <td>2</td>\n",
       "      <td>renault 18i</td>\n",
       "    </tr>\n",
       "    <tr>\n",
       "      <th>374</th>\n",
       "      <td>23.0</td>\n",
       "      <td>4</td>\n",
       "      <td>151.0</td>\n",
       "      <td>?</td>\n",
       "      <td>3035</td>\n",
       "      <td>20.5</td>\n",
       "      <td>82</td>\n",
       "      <td>1</td>\n",
       "      <td>amc concord dl</td>\n",
       "    </tr>\n",
       "  </tbody>\n",
       "</table>\n",
       "</div>"
      ],
      "text/plain": [
       "      mpg  cylinders  displacement horsepower  weight  acceleration  \\\n",
       "32   25.0          4          98.0          ?    2046          19.0   \n",
       "126  21.0          6         200.0          ?    2875          17.0   \n",
       "330  40.9          4          85.0          ?    1835          17.3   \n",
       "336  23.6          4         140.0          ?    2905          14.3   \n",
       "354  34.5          4         100.0          ?    2320          15.8   \n",
       "374  23.0          4         151.0          ?    3035          20.5   \n",
       "\n",
       "     model year  origin              car name  \n",
       "32           71       1            ford pinto  \n",
       "126          74       1         ford maverick  \n",
       "330          80       2  renault lecar deluxe  \n",
       "336          80       1    ford mustang cobra  \n",
       "354          81       2           renault 18i  \n",
       "374          82       1        amc concord dl  "
      ]
     },
     "execution_count": 133,
     "metadata": {},
     "output_type": "execute_result"
    }
   ],
   "source": [
    "auto[auto.horsepower == '?']"
   ]
  },
  {
   "cell_type": "code",
   "execution_count": 134,
   "metadata": {},
   "outputs": [],
   "source": [
    "#Data preprocessing for horsepower column"
   ]
  },
  {
   "cell_type": "code",
   "execution_count": 135,
   "metadata": {},
   "outputs": [],
   "source": [
    "auto = auto.drop(list(auto[auto.horsepower == '?'].index) , axis = 0)"
   ]
  },
  {
   "cell_type": "code",
   "execution_count": 136,
   "metadata": {},
   "outputs": [
    {
     "data": {
      "text/plain": [
       "(392, 9)"
      ]
     },
     "execution_count": 136,
     "metadata": {},
     "output_type": "execute_result"
    }
   ],
   "source": [
    "auto.shape"
   ]
  },
  {
   "cell_type": "code",
   "execution_count": 137,
   "metadata": {},
   "outputs": [],
   "source": [
    "auto.horsepower = auto.horsepower.astype('float64')"
   ]
  },
  {
   "cell_type": "code",
   "execution_count": 138,
   "metadata": {},
   "outputs": [
    {
     "name": "stdout",
     "output_type": "stream",
     "text": [
      "<class 'pandas.core.frame.DataFrame'>\n",
      "Int64Index: 392 entries, 0 to 397\n",
      "Data columns (total 9 columns):\n",
      "mpg             392 non-null float64\n",
      "cylinders       392 non-null int64\n",
      "displacement    392 non-null float64\n",
      "horsepower      392 non-null float64\n",
      "weight          392 non-null int64\n",
      "acceleration    392 non-null float64\n",
      "model year      392 non-null int64\n",
      "origin          392 non-null int64\n",
      "car name        392 non-null object\n",
      "dtypes: float64(4), int64(4), object(1)\n",
      "memory usage: 30.6+ KB\n"
     ]
    }
   ],
   "source": [
    "auto.info()"
   ]
  },
  {
   "cell_type": "code",
   "execution_count": 139,
   "metadata": {},
   "outputs": [
    {
     "data": {
      "text/plain": [
       "Index(['mpg', 'cylinders', 'displacement', 'horsepower', 'weight',\n",
       "       'acceleration', 'model year', 'origin', 'car name'],\n",
       "      dtype='object')"
      ]
     },
     "execution_count": 139,
     "metadata": {},
     "output_type": "execute_result"
    }
   ],
   "source": [
    "auto.columns"
   ]
  },
  {
   "cell_type": "code",
   "execution_count": 140,
   "metadata": {},
   "outputs": [],
   "source": [
    "X = auto[['mpg', 'cylinders', 'displacement', 'horsepower', \n",
    "       'acceleration', 'model year', 'origin']]"
   ]
  },
  {
   "cell_type": "code",
   "execution_count": 141,
   "metadata": {},
   "outputs": [],
   "source": [
    "y = auto['weight']"
   ]
  },
  {
   "cell_type": "code",
   "execution_count": 142,
   "metadata": {},
   "outputs": [],
   "source": [
    "X_train, X_test, y_train, y_test = train_test_split(X, y, test_size=0.20, random_state=42)"
   ]
  },
  {
   "cell_type": "code",
   "execution_count": 143,
   "metadata": {},
   "outputs": [],
   "source": [
    "model = linear_model.LinearRegression()"
   ]
  },
  {
   "cell_type": "code",
   "execution_count": 144,
   "metadata": {},
   "outputs": [
    {
     "data": {
      "text/plain": [
       "LinearRegression(copy_X=True, fit_intercept=True, n_jobs=None, normalize=False)"
      ]
     },
     "execution_count": 144,
     "metadata": {},
     "output_type": "execute_result"
    }
   ],
   "source": [
    "model.fit(X_train , y_train)"
   ]
  },
  {
   "cell_type": "code",
   "execution_count": 145,
   "metadata": {},
   "outputs": [
    {
     "data": {
      "text/plain": [
       "array([-31.35805155,  33.60753186,   4.01064996,   7.48289984,\n",
       "        62.53147884,  35.172394  ,  11.24997351])"
      ]
     },
     "execution_count": 145,
     "metadata": {},
     "output_type": "execute_result"
    }
   ],
   "source": [
    "model.coef_"
   ]
  },
  {
   "cell_type": "code",
   "execution_count": 146,
   "metadata": {},
   "outputs": [
    {
     "data": {
      "text/plain": [
       "-1694.8220985187527"
      ]
     },
     "execution_count": 146,
     "metadata": {},
     "output_type": "execute_result"
    }
   ],
   "source": [
    "model.intercept_"
   ]
  },
  {
   "cell_type": "code",
   "execution_count": 147,
   "metadata": {},
   "outputs": [
    {
     "data": {
      "text/plain": [
       "array([2206.12010766, 2855.78713894, 1924.23840991, 2303.45608729,\n",
       "       2668.83836896, 2244.20123692, 4301.60413709, 2454.64639593,\n",
       "       3173.97502397, 1979.05936949, 4094.4069613 , 3020.9244762 ,\n",
       "       4329.25218092, 2152.65819984, 3401.72832448, 2790.27383353,\n",
       "       3030.42276889, 2351.21752116, 2392.15933073, 2270.38750301,\n",
       "       2764.48561096, 2282.9082326 , 2127.32230221, 3437.33504523,\n",
       "       2036.98934954, 2250.12600119, 2687.65537993, 3170.92286166,\n",
       "       2260.79089175, 2484.19886181, 4117.03557351, 3332.64681045,\n",
       "       3706.01086818, 2510.74608035, 4222.29092823, 2045.22169107,\n",
       "       4008.3584914 , 2252.02458009, 3969.37175497, 4661.87334991,\n",
       "       3789.53304867, 2203.68580096, 2148.93888808, 2128.96146827,\n",
       "       4143.58723514, 4806.57393761, 3108.43471739, 1871.5737531 ,\n",
       "       2679.547302  , 1998.53490948, 4040.31215837, 2386.49393244,\n",
       "       2274.26243495, 2275.08402573, 3400.10055184, 3602.53468867,\n",
       "       3314.14088525, 3208.10602136, 2362.50822741, 2226.16626863,\n",
       "       4972.92073701, 3190.10465418, 2817.32841231, 2581.61066155,\n",
       "       2728.91825991, 2479.39090581, 2590.18859485, 1950.85621972,\n",
       "       3539.83553015, 4404.48272678, 2546.57872303, 4271.36240508,\n",
       "       2777.07283881, 2241.27169868, 3391.60054899, 2034.89279273,\n",
       "       3984.15930669, 3637.67719531, 2042.99281267])"
      ]
     },
     "execution_count": 147,
     "metadata": {},
     "output_type": "execute_result"
    }
   ],
   "source": [
    "y_pred = model.predict(X_test)\n",
    "y_pred"
   ]
  },
  {
   "cell_type": "code",
   "execution_count": 148,
   "metadata": {},
   "outputs": [
    {
     "name": "stdout",
     "output_type": "stream",
     "text": [
      "Mean Absolute Error: 154.91942054054283\n",
      "Mean Squared Error: 40925.66356383006\n"
     ]
    },
    {
     "data": {
      "application/javascript": [
       "\n",
       "        if (window._pyforest_update_imports_cell) { window._pyforest_update_imports_cell('import pandas as pd\\nimport numpy as np'); }\n",
       "    "
      ],
      "text/plain": [
       "<IPython.core.display.Javascript object>"
      ]
     },
     "metadata": {},
     "output_type": "display_data"
    },
    {
     "name": "stdout",
     "output_type": "stream",
     "text": [
      "Root Mean Squared Error: 202.30092328961342\n"
     ]
    }
   ],
   "source": [
    "print('Mean Absolute Error:', metrics.mean_absolute_error(y_test, y_pred))  \n",
    "print('Mean Squared Error:', metrics.mean_squared_error(y_test, y_pred))  \n",
    "print('Root Mean Squared Error:', np.sqrt(metrics.mean_squared_error(y_test, y_pred)))"
   ]
  },
  {
   "cell_type": "code",
   "execution_count": 149,
   "metadata": {},
   "outputs": [],
   "source": [
    "# Exercise 1 is completed as I used downloaded data to repeat the previous steps"
   ]
  },
  {
   "cell_type": "markdown",
   "metadata": {},
   "source": [
    "<h3> in ML Training video sneha mam told Do Univriate analysis using gradient descent"
   ]
  },
  {
   "cell_type": "markdown",
   "metadata": {},
   "source": [
    "https://wipro365.sharepoint.com/sites/appliedai-mll1/Shared%20Documents/Forms/AllItems.aspx?RootFolder=%2Fsites%2Fappliedai%2Dmll1%2FShared%20Documents%2FGeneral%2FMar2020&FolderCTID=0x012000A630D06198FCF24CB4F8D13B13C5BF9F"
   ]
  },
  {
   "cell_type": "code",
   "execution_count": 150,
   "metadata": {},
   "outputs": [],
   "source": [
    "X = auto.mpg\n",
    "y = auto.acceleration"
   ]
  },
  {
   "cell_type": "code",
   "execution_count": 151,
   "metadata": {},
   "outputs": [],
   "source": [
    "# Exercise 2 Convert data to array"
   ]
  },
  {
   "cell_type": "code",
   "execution_count": 152,
   "metadata": {},
   "outputs": [],
   "source": [
    "X_array = X.values"
   ]
  },
  {
   "cell_type": "code",
   "execution_count": 153,
   "metadata": {},
   "outputs": [],
   "source": [
    "y_array = y.values"
   ]
  },
  {
   "cell_type": "code",
   "execution_count": 154,
   "metadata": {},
   "outputs": [
    {
     "data": {
      "text/plain": [
       "(392,)"
      ]
     },
     "execution_count": 154,
     "metadata": {},
     "output_type": "execute_result"
    }
   ],
   "source": [
    "X_array.shape"
   ]
  },
  {
   "cell_type": "code",
   "execution_count": 155,
   "metadata": {},
   "outputs": [
    {
     "data": {
      "text/plain": [
       "(392,)"
      ]
     },
     "execution_count": 155,
     "metadata": {},
     "output_type": "execute_result"
    }
   ],
   "source": [
    "y_array.shape"
   ]
  },
  {
   "cell_type": "code",
   "execution_count": 156,
   "metadata": {},
   "outputs": [],
   "source": [
    "m = y_array.size"
   ]
  },
  {
   "cell_type": "code",
   "execution_count": 157,
   "metadata": {},
   "outputs": [
    {
     "data": {
      "text/plain": [
       "392"
      ]
     },
     "execution_count": 157,
     "metadata": {},
     "output_type": "execute_result"
    }
   ],
   "source": [
    "m"
   ]
  },
  {
   "cell_type": "code",
   "execution_count": 158,
   "metadata": {},
   "outputs": [],
   "source": [
    "import matplotlib.pyplot as plt"
   ]
  },
  {
   "cell_type": "code",
   "execution_count": 159,
   "metadata": {},
   "outputs": [],
   "source": [
    "def plotData(x , y):\n",
    "    fig = plt.figure()\n",
    "    plt.plot(x , y  , 'ro' , mec = 'k')\n",
    "    plt.xlabel('Displacement')\n",
    "    plt.ylabel('Weight')"
   ]
  },
  {
   "cell_type": "code",
   "execution_count": 160,
   "metadata": {},
   "outputs": [
    {
     "data": {
      "image/png": "[encoded data removed]",
      "text/plain": [
       "<Figure size 432x288 with 1 Axes>"
      ]
     },
     "metadata": {
      "needs_background": "light"
     },
     "output_type": "display_data"
    }
   ],
   "source": [
    "plotData(X_array , y_array)"
   ]
  },
  {
   "cell_type": "code",
   "execution_count": 161,
   "metadata": {},
   "outputs": [
    {
     "data": {
      "image/png": "[encoded data removed]",
      "text/plain": [
       "<Figure size 432x288 with 1 Axes>"
      ]
     },
     "metadata": {
      "needs_background": "light"
     },
     "output_type": "display_data"
    }
   ],
   "source": [
    "plt.plot(X_array , y_array  , 'ro' , mec = 'k')\n",
    "plt.xlabel('MPG')\n",
    "plt.ylabel('Acceleration')\n",
    "plt.show()"
   ]
  },
  {
   "cell_type": "code",
   "execution_count": 162,
   "metadata": {},
   "outputs": [],
   "source": [
    "import numpy as np"
   ]
  },
  {
   "cell_type": "code",
   "execution_count": 163,
   "metadata": {},
   "outputs": [],
   "source": [
    "X_arr = np.stack([np.ones(m) , X_array] , axis = 1)"
   ]
  },
  {
   "cell_type": "code",
   "execution_count": 164,
   "metadata": {},
   "outputs": [
    {
     "data": {
      "text/plain": [
       "array([[ 1., 18.],\n",
       "       [ 1., 15.],\n",
       "       [ 1., 18.],\n",
       "       [ 1., 16.],\n",
       "       [ 1., 17.]])"
      ]
     },
     "execution_count": 164,
     "metadata": {},
     "output_type": "execute_result"
    }
   ],
   "source": [
    "X_arr[:5]"
   ]
  },
  {
   "cell_type": "markdown",
   "metadata": {},
   "source": [
    "**Cost Function**"
   ]
  },
  {
   "cell_type": "code",
   "execution_count": 165,
   "metadata": {},
   "outputs": [],
   "source": [
    "def ComputeCost(X , y , theta):\n",
    "    m = y.size\n",
    "    cost = 0\n",
    "    h = np.dot(X , theta)\n",
    "    \n",
    "    cost = (1 / (2 * m)) * np.sum(np.square(np.dot(X , theta) - y))\n",
    "    \n",
    "    return cost"
   ]
  },
  {
   "cell_type": "code",
   "execution_count": 166,
   "metadata": {},
   "outputs": [
    {
     "data": {
      "text/plain": [
       "124.56237244897957"
      ]
     },
     "execution_count": 166,
     "metadata": {},
     "output_type": "execute_result"
    }
   ],
   "source": [
    "ComputeCost(X_arr , y_array , theta = np.array([0,0]))"
   ]
  },
  {
   "cell_type": "markdown",
   "metadata": {},
   "source": [
    "**Gradient Descent**"
   ]
  },
  {
   "cell_type": "code",
   "execution_count": 167,
   "metadata": {},
   "outputs": [],
   "source": [
    "def GradientDescent(X , y ,theta , learning_rate , number_of_iterations):\n",
    "    m = y.shape[0]\n",
    "    theta = theta.copy()\n",
    "    \n",
    "    cost_history = []\n",
    "    \n",
    "    for i in range(number_of_iterations):\n",
    "        \n",
    "        theta = theta - (learning_rate / m) * (np.dot(X , theta) - y).dot(X)\n",
    "        \n",
    "        cost_history.append(ComputeCost(X , y ,theta))\n",
    "        \n",
    "    return theta , cost_history"
   ]
  },
  {
   "cell_type": "code",
   "execution_count": 168,
   "metadata": {},
   "outputs": [
    {
     "data": {
      "text/plain": [
       "array([0., 0.])"
      ]
     },
     "execution_count": 168,
     "metadata": {},
     "output_type": "execute_result"
    }
   ],
   "source": [
    "theta = np.zeros(2)\n",
    "theta"
   ]
  },
  {
   "cell_type": "code",
   "execution_count": 169,
   "metadata": {},
   "outputs": [],
   "source": [
    "iterations = 1000"
   ]
  },
  {
   "cell_type": "code",
   "execution_count": 170,
   "metadata": {},
   "outputs": [],
   "source": [
    "learning_rate = 0.0001"
   ]
  },
  {
   "cell_type": "code",
   "execution_count": 171,
   "metadata": {},
   "outputs": [],
   "source": [
    "theta , cost_history= GradientDescent(X_arr , y_array , theta , learning_rate , iterations)"
   ]
  },
  {
   "cell_type": "code",
   "execution_count": 172,
   "metadata": {},
   "outputs": [
    {
     "data": {
      "text/plain": [
       "array([0.14223653, 0.60638712])"
      ]
     },
     "execution_count": 172,
     "metadata": {},
     "output_type": "execute_result"
    }
   ],
   "source": [
    "theta"
   ]
  },
  {
   "cell_type": "code",
   "execution_count": 173,
   "metadata": {},
   "outputs": [
    {
     "data": {
      "text/plain": [
       "[111.01712866773993,\n",
       " 99.07748190489174,\n",
       " 88.55310934510582,\n",
       " 79.27624848780438,\n",
       " 71.09902291285647,\n",
       " 63.89108504225497,\n",
       " 57.53753832199022,\n",
       " 51.93710570246053,\n",
       " 47.00051522190478,\n",
       " 42.64907695809473,\n",
       " 38.813428664047706,\n",
       " 35.43243009244563,\n",
       " 32.45218838363165,\n",
       " 29.82519898128822,\n",
       " 27.509588381479983,\n",
       " 25.468446644029772,\n",
       " 23.669239026060936,\n",
       " 22.0832873587937,\n",
       " 20.68531290043266,\n",
       " 19.453033377947495,\n",
       " 18.366807794352866,\n",
       " 17.409323339503526,\n",
       " 16.56531941357609,\n",
       " 15.821344364007212,\n",
       " 15.165541058129781,\n",
       " 14.587457873407239,\n",
       " 14.0778820923375,\n",
       " 13.628693046241944,\n",
       " 13.232732666963946,\n",
       " 12.883691382993707,\n",
       " 12.576007541135706,\n",
       " 12.304778750440018,\n",
       " 12.065683735167099,\n",
       " 11.854913451075422,\n",
       " 11.669110366984821,\n",
       " 11.50531494372716,\n",
       " 11.360918457327088,\n",
       " 11.233621414386146,\n",
       " 11.121396896786733,\n",
       " 11.022458251408494,\n",
       " 10.935230609812175,\n",
       " 10.858325783897472,\n",
       " 10.790520137356916,\n",
       " 10.730735080183386,\n",
       " 10.678019875302178,\n",
       " 10.631536483255074,\n",
       " 10.590546203351614,\n",
       " 10.554397898339559,\n",
       " 10.522517614888784,\n",
       " 10.494399434432927,\n",
       " 10.469597408525733,\n",
       " 10.44771845015688,\n",
       " 10.428416067710621,\n",
       " 10.411384841682784,\n",
       " 10.396355556111766,\n",
       " 10.38309090711554,\n",
       " 10.371381720126253,\n",
       " 10.361043615522911,\n",
       " 10.351914069510213,\n",
       " 10.343849823392373,\n",
       " 10.336724599944075,\n",
       " 10.33042709047616,\n",
       " 10.324859180508811,\n",
       " 10.319934385768155,\n",
       " 10.315576473575428,\n",
       " 10.311718247652573,\n",
       " 10.308300476973535,\n",
       " 10.305270951586333,\n",
       " 10.302583650355347,\n",
       " 10.300198007356927,\n",
       " 10.298078265234407,\n",
       " 10.296192905204501,\n",
       " 10.29451414462911,\n",
       " 10.293017494143514,\n",
       " 10.291681367281264,\n",
       " 10.290486736373056,\n",
       " 10.28941682923435,\n",
       " 10.288456861806718,\n",
       " 10.287593802491147,\n",
       " 10.286816164416587,\n",
       " 10.286113822332378,\n",
       " 10.285477851205707,\n",
       " 10.284900383951273,\n",
       " 10.284374486025241,\n",
       " 10.283894044884502,\n",
       " 10.283453672549077,\n",
       " 10.283048619714505,\n",
       " 10.282674700045101,\n",
       " 10.282328223441263,\n",
       " 10.282005937217102,\n",
       " 10.281704974250665,\n",
       " 10.281422807280329,\n",
       " 10.281157208618719,\n",
       " 10.280906214642066,\n",
       " 10.280668094488856,\n",
       " 10.280441322468873,\n",
       " 10.280224553742794,\n",
       " 10.28001660288465,\n",
       " 10.279816424985409,\n",
       " 10.279623098996526,\n",
       " 10.279435813047872,\n",
       " 10.279253851506045,\n",
       " 10.279076583566743,\n",
       " 10.278903453199382,\n",
       " 10.2787339702836,\n",
       " 10.2785677027965,\n",
       " 10.278404269925906,\n",
       " 10.278243336000008,\n",
       " 10.278084605136563,\n",
       " 10.277927816526326,\n",
       " 10.277772740275637,\n",
       " 10.277619173741737,\n",
       " 10.277466938302567,\n",
       " 10.27731587650939,\n",
       " 10.277165849576972,\n",
       " 10.277016735171287,\n",
       " 10.276868425459416,\n",
       " 10.276720825390637,\n",
       " 10.276573851181256,\n",
       " 10.276427428979046,\n",
       " 10.276281493686012,\n",
       " 10.27613598792067,\n",
       " 10.275990861103363,\n",
       " 10.27584606865,\n",
       " 10.27570157126136,\n",
       " 10.27555733429661,\n",
       " 10.275413327221147,\n",
       " 10.275269523119846,\n",
       " 10.275125898268014,\n",
       " 10.2749824317532,\n",
       " 10.274839105141861,\n",
       " 10.274695902185499,\n",
       " 10.274552808561658,\n",
       " 10.274409811645622,\n",
       " 10.274266900309154,\n",
       " 10.274124064743146,\n",
       " 10.273981296301193,\n",
       " 10.273838587361825,\n",
       " 10.273695931206984,\n",
       " 10.27355332191495,\n",
       " 10.273410754265937,\n",
       " 10.27326822365889,\n",
       " 10.273125726038144,\n",
       " 10.272983257828765,\n",
       " 10.272840815879592,\n",
       " 10.27269839741298,\n",
       " 10.272555999980524,\n",
       " 10.27241362142404,\n",
       " 10.272271259841178,\n",
       " 10.27212891355506,\n",
       " 10.27198658108759,\n",
       " 10.27184426113586,\n",
       " 10.27170195255141,\n",
       " 10.271559654321903,\n",
       " 10.271417365554989,\n",
       " 10.27127508546411,\n",
       " 10.27113281335591,\n",
       " 10.270990548619231,\n",
       " 10.270848290715346,\n",
       " 10.270706039169387,\n",
       " 10.270563793562765,\n",
       " 10.270421553526507,\n",
       " 10.270279318735364,\n",
       " 10.270137088902631,\n",
       " 10.269994863775596,\n",
       " 10.269852643131484,\n",
       " 10.269710426773921,\n",
       " 10.26956821452982,\n",
       " 10.269426006246569,\n",
       " 10.269283801789683,\n",
       " 10.269141601040584,\n",
       " 10.268999403894748,\n",
       " 10.268857210260032,\n",
       " 10.268715020055227,\n",
       " 10.268572833208719,\n",
       " 10.268430649657388,\n",
       " 10.26828846934559,\n",
       " 10.26814629222427,\n",
       " 10.268004118250179,\n",
       " 10.267861947385185,\n",
       " 10.267719779595684,\n",
       " 10.267577614852026,\n",
       " 10.267435453128083,\n",
       " 10.26729329440082,\n",
       " 10.267151138649922,\n",
       " 10.267008985857467,\n",
       " 10.266866836007665,\n",
       " 10.26672468908658,\n",
       " 10.26658254508193,\n",
       " 10.266440403982877,\n",
       " 10.26629826577986,\n",
       " 10.266156130464449,\n",
       " 10.266013998029198,\n",
       " 10.26587186846755,\n",
       " 10.265729741773711,\n",
       " 10.265587617942565,\n",
       " 10.2654454969696,\n",
       " 10.265303378850831,\n",
       " 10.265161263582744,\n",
       " 10.265019151162218,\n",
       " 10.264877041586514,\n",
       " 10.264734934853204,\n",
       " 10.264592830960138,\n",
       " 10.264450729905423,\n",
       " 10.264308631687376,\n",
       " 10.264166536304497,\n",
       " 10.264024443755488,\n",
       " 10.263882354039163,\n",
       " 10.263740267154498,\n",
       " 10.263598183100566,\n",
       " 10.263456101876542,\n",
       " 10.263314023481716,\n",
       " 10.263171947915426,\n",
       " 10.263029875177098,\n",
       " 10.262887805266217,\n",
       " 10.262745738182321,\n",
       " 10.262603673924989,\n",
       " 10.26246161249386,\n",
       " 10.262319553888597,\n",
       " 10.2621774981089,\n",
       " 10.262035445154496,\n",
       " 10.26189339502514,\n",
       " 10.261751347720603,\n",
       " 10.261609303240684,\n",
       " 10.261467261585203,\n",
       " 10.261325222753978,\n",
       " 10.26118318674686,\n",
       " 10.261041153563697,\n",
       " 10.260899123204364,\n",
       " 10.260757095668724,\n",
       " 10.26061507095667,\n",
       " 10.260473049068088,\n",
       " 10.260331030002867,\n",
       " 10.260189013760922,\n",
       " 10.260047000342155,\n",
       " 10.259904989746472,\n",
       " 10.259762981973791,\n",
       " 10.259620977024039,\n",
       " 10.259478974897126,\n",
       " 10.25933697559298,\n",
       " 10.259194979111538,\n",
       " 10.259052985452708,\n",
       " 10.25891099461644,\n",
       " 10.258769006602652,\n",
       " 10.258627021411284,\n",
       " 10.25848503904227,\n",
       " 10.258343059495552,\n",
       " 10.25820108277105,\n",
       " 10.258059108868725,\n",
       " 10.257917137788494,\n",
       " 10.257775169530303,\n",
       " 10.257633204094093,\n",
       " 10.257491241479807,\n",
       " 10.257349281687384,\n",
       " 10.257207324716767,\n",
       " 10.257065370567886,\n",
       " 10.256923419240696,\n",
       " 10.256781470735126,\n",
       " 10.256639525051137,\n",
       " 10.256497582188647,\n",
       " 10.256355642147618,\n",
       " 10.256213704927989,\n",
       " 10.2560717705297,\n",
       " 10.25592983895269,\n",
       " 10.25578791019691,\n",
       " 10.255645984262292,\n",
       " 10.255504061148793,\n",
       " 10.255362140856349,\n",
       " 10.255220223384903,\n",
       " 10.255078308734396,\n",
       " 10.254936396904782,\n",
       " 10.254794487895998,\n",
       " 10.254652581707981,\n",
       " 10.254510678340688,\n",
       " 10.254368777794049,\n",
       " 10.25422688006802,\n",
       " 10.254084985162537,\n",
       " 10.25394309307755,\n",
       " 10.253801203812996,\n",
       " 10.253659317368818,\n",
       " 10.253517433744966,\n",
       " 10.253375552941382,\n",
       " 10.253233674958013,\n",
       " 10.253091799794795,\n",
       " 10.252949927451674,\n",
       " 10.252808057928597,\n",
       " 10.252666191225511,\n",
       " 10.252524327342352,\n",
       " 10.25238246627907,\n",
       " 10.252240608035603,\n",
       " 10.2520987526119,\n",
       " 10.251956900007904,\n",
       " 10.251815050223556,\n",
       " 10.251673203258802,\n",
       " 10.251531359113587,\n",
       " 10.251389517787857,\n",
       " 10.251247679281551,\n",
       " 10.251105843594615,\n",
       " 10.250964010726992,\n",
       " 10.250822180678627,\n",
       " 10.250680353449468,\n",
       " 10.25053852903945,\n",
       " 10.25039670744852,\n",
       " 10.25025488867663,\n",
       " 10.250113072723712,\n",
       " 10.249971259589717,\n",
       " 10.24982944927459,\n",
       " 10.249687641778266,\n",
       " 10.249545837100705,\n",
       " 10.249404035241831,\n",
       " 10.249262236201602,\n",
       " 10.249120439979965,\n",
       " 10.248978646576852,\n",
       " 10.248836855992215,\n",
       " 10.248695068225992,\n",
       " 10.24855328327813,\n",
       " 10.248411501148572,\n",
       " 10.248269721837266,\n",
       " 10.248127945344155,\n",
       " 10.24798617166918,\n",
       " 10.247844400812285,\n",
       " 10.247702632773418,\n",
       " 10.247560867552515,\n",
       " 10.247419105149527,\n",
       " 10.247277345564395,\n",
       " 10.24713558879707,\n",
       " 10.246993834847483,\n",
       " 10.246852083715586,\n",
       " 10.246710335401328,\n",
       " 10.246568589904639,\n",
       " 10.24642684722548,\n",
       " 10.246285107363779,\n",
       " 10.246143370319489,\n",
       " 10.246001636092554,\n",
       " 10.245859904682915,\n",
       " 10.245718176090516,\n",
       " 10.245576450315301,\n",
       " 10.245434727357217,\n",
       " 10.245293007216205,\n",
       " 10.245151289892208,\n",
       " 10.245009575385176,\n",
       " 10.244867863695047,\n",
       " 10.244726154821768,\n",
       " 10.24458444876528,\n",
       " 10.24444274552553,\n",
       " 10.244301045102464,\n",
       " 10.244159347496021,\n",
       " 10.244017652706145,\n",
       " 10.243875960732785,\n",
       " 10.243734271575882,\n",
       " 10.243592585235376,\n",
       " 10.243450901711222,\n",
       " 10.243309221003354,\n",
       " 10.24316754311172,\n",
       " 10.243025868036263,\n",
       " 10.242884195776925,\n",
       " 10.242742526333652,\n",
       " 10.24260085970639,\n",
       " 10.242459195895082,\n",
       " 10.242317534899671,\n",
       " 10.242175876720104,\n",
       " 10.242034221356318,\n",
       " 10.241892568808264,\n",
       " 10.24175091907588,\n",
       " 10.241609272159115,\n",
       " 10.241467628057912,\n",
       " 10.241325986772218,\n",
       " 10.241184348301973,\n",
       " 10.241042712647117,\n",
       " 10.240901079807601,\n",
       " 10.240759449783367,\n",
       " 10.240617822574357,\n",
       " 10.24047619818052,\n",
       " 10.240334576601798,\n",
       " 10.240192957838126,\n",
       " 10.240051341889465,\n",
       " 10.239909728755746,\n",
       " 10.239768118436915,\n",
       " 10.23962651093292,\n",
       " 10.239484906243703,\n",
       " 10.239343304369207,\n",
       " 10.239201705309378,\n",
       " 10.239060109064162,\n",
       " 10.238918515633502,\n",
       " 10.23877692501733,\n",
       " 10.23863533721561,\n",
       " 10.238493752228276,\n",
       " 10.238352170055267,\n",
       " 10.23821059069654,\n",
       " 10.238069014152023,\n",
       " 10.237927440421673,\n",
       " 10.237785869505428,\n",
       " 10.237644301403236,\n",
       " 10.237502736115042,\n",
       " 10.237361173640782,\n",
       " 10.237219613980407,\n",
       " 10.23707805713386,\n",
       " 10.236936503101079,\n",
       " 10.23679495188202,\n",
       " 10.236653403476616,\n",
       " 10.236511857884818,\n",
       " 10.23637031510657,\n",
       " 10.236228775141806,\n",
       " 10.236087237990484,\n",
       " 10.235945703652535,\n",
       " 10.235804172127915,\n",
       " 10.23566264341656,\n",
       " 10.23552111751842,\n",
       " 10.23537959443343,\n",
       " 10.235238074161549,\n",
       " 10.235096556702707,\n",
       " 10.234955042056855,\n",
       " 10.234813530223935,\n",
       " 10.234672021203892,\n",
       " 10.234530514996667,\n",
       " 10.234389011602211,\n",
       " 10.234247511020458,\n",
       " 10.23410601325136,\n",
       " 10.233964518294862,\n",
       " 10.2338230261509,\n",
       " 10.233681536819427,\n",
       " 10.233540050300384,\n",
       " 10.233398566593708,\n",
       " 10.233257085699359,\n",
       " 10.233115607617261,\n",
       " 10.232974132347374,\n",
       " 10.23283265988964,\n",
       " 10.232691190243994,\n",
       " 10.232549723410386,\n",
       " 10.232408259388762,\n",
       " 10.232266798179065,\n",
       " 10.232125339781234,\n",
       " 10.231983884195222,\n",
       " 10.231842431420967,\n",
       " 10.231700981458413,\n",
       " 10.231559534307506,\n",
       " 10.23141808996819,\n",
       " 10.231276648440408,\n",
       " 10.231135209724108,\n",
       " 10.230993773819229,\n",
       " 10.230852340725722,\n",
       " 10.230710910443516,\n",
       " 10.230569482972571,\n",
       " 10.230428058312828,\n",
       " 10.23028663646423,\n",
       " 10.230145217426715,\n",
       " 10.230003801200231,\n",
       " 10.229862387784726,\n",
       " 10.229720977180138,\n",
       " 10.229579569386416,\n",
       " 10.229438164403504,\n",
       " 10.229296762231346,\n",
       " 10.229155362869882,\n",
       " 10.229013966319055,\n",
       " 10.228872572578819,\n",
       " 10.228731181649112,\n",
       " 10.228589793529876,\n",
       " 10.228448408221057,\n",
       " 10.228307025722602,\n",
       " 10.228165646034446,\n",
       " 10.228024269156546,\n",
       " 10.227882895088838,\n",
       " 10.227741523831266,\n",
       " 10.227600155383783,\n",
       " 10.22745878974632,\n",
       " 10.227317426918827,\n",
       " 10.227176066901254,\n",
       " 10.227034709693537,\n",
       " 10.226893355295623,\n",
       " 10.226752003707453,\n",
       " 10.226610654928978,\n",
       " 10.226469308960136,\n",
       " 10.226327965800873,\n",
       " 10.226186625451136,\n",
       " 10.226045287910868,\n",
       " 10.22590395318001,\n",
       " 10.225762621258507,\n",
       " 10.225621292146306,\n",
       " 10.225479965843345,\n",
       " 10.225338642349577,\n",
       " 10.225197321664943,\n",
       " 10.225056003789385,\n",
       " 10.22491468872285,\n",
       " 10.224773376465272,\n",
       " 10.224632067016609,\n",
       " 10.224490760376801,\n",
       " 10.224349456545786,\n",
       " 10.224208155523518,\n",
       " 10.224066857309937,\n",
       " 10.22392556190498,\n",
       " 10.2237842693086,\n",
       " 10.223642979520744,\n",
       " 10.223501692541346,\n",
       " 10.22336040837035,\n",
       " 10.22321912700771,\n",
       " 10.223077848453372,\n",
       " 10.222936572707265,\n",
       " 10.222795299769345,\n",
       " 10.22265402963955,\n",
       " 10.222512762317825,\n",
       " 10.222371497804122,\n",
       " 10.222230236098378,\n",
       " 10.222088977200539,\n",
       " 10.221947721110546,\n",
       " 10.22180646782835,\n",
       " 10.221665217353888,\n",
       " 10.221523969687107,\n",
       " 10.221382724827947,\n",
       " 10.221241482776367,\n",
       " 10.221100243532291,\n",
       " 10.220959007095681,\n",
       " 10.220817773466472,\n",
       " 10.220676542644606,\n",
       " 10.220535314630034,\n",
       " 10.220394089422694,\n",
       " 10.220252867022534,\n",
       " 10.220111647429501,\n",
       " 10.219970430643526,\n",
       " 10.219829216664577,\n",
       " 10.219688005492573,\n",
       " 10.219546797127467,\n",
       " 10.219405591569213,\n",
       " 10.219264388817747,\n",
       " 10.219123188873013,\n",
       " 10.21898199173495,\n",
       " 10.218840797403516,\n",
       " 10.218699605878644,\n",
       " 10.218558417160281,\n",
       " 10.21841723124837,\n",
       " 10.21827604814286,\n",
       " 10.218134867843691,\n",
       " 10.217993690350811,\n",
       " 10.217852515664156,\n",
       " 10.217711343783682,\n",
       " 10.217570174709325,\n",
       " 10.217429008441032,\n",
       " 10.217287844978744,\n",
       " 10.217146684322405,\n",
       " 10.217005526471969,\n",
       " 10.216864371427366,\n",
       " 10.216723219188555,\n",
       " 10.216582069755473,\n",
       " 10.216440923128058,\n",
       " 10.216299779306263,\n",
       " 10.216158638290025,\n",
       " 10.2160175000793,\n",
       " 10.21587636467402,\n",
       " 10.215735232074138,\n",
       " 10.215594102279589,\n",
       " 10.215452975290328,\n",
       " 10.215311851106286,\n",
       " 10.215170729727424,\n",
       " 10.215029611153668,\n",
       " 10.214888495384978,\n",
       " 10.214747382421294,\n",
       " 10.214606272262552,\n",
       " 10.214465164908704,\n",
       " 10.214324060359692,\n",
       " 10.214182958615464,\n",
       " 10.214041859675955,\n",
       " 10.213900763541124,\n",
       " 10.213759670210896,\n",
       " 10.213618579685233,\n",
       " 10.213477491964074,\n",
       " 10.213336407047352,\n",
       " 10.213195324935027,\n",
       " 10.213054245627035,\n",
       " 10.212913169123324,\n",
       " 10.212772095423835,\n",
       " 10.212631024528514,\n",
       " 10.212489956437302,\n",
       " 10.21234889115015,\n",
       " 10.212207828667,\n",
       " 10.212066768987786,\n",
       " 10.211925712112468,\n",
       " 10.211784658040983,\n",
       " 10.21164360677327,\n",
       " 10.21150255830928,\n",
       " 10.211361512648958,\n",
       " 10.211220469792247,\n",
       " 10.211079429739089,\n",
       " 10.210938392489432,\n",
       " 10.210797358043216,\n",
       " 10.210656326400386,\n",
       " 10.210515297560885,\n",
       " 10.210374271524667,\n",
       " 10.210233248291665,\n",
       " 10.210092227861827,\n",
       " 10.209951210235102,\n",
       " 10.209810195411423,\n",
       " 10.209669183390748,\n",
       " 10.20952817417301,\n",
       " 10.209387167758159,\n",
       " 10.209246164146139,\n",
       " 10.209105163336893,\n",
       " 10.208964165330364,\n",
       " 10.208823170126498,\n",
       " 10.20868217772524,\n",
       " 10.208541188126537,\n",
       " 10.208400201330328,\n",
       " 10.208259217336558,\n",
       " 10.208118236145173,\n",
       " 10.207977257756117,\n",
       " 10.207836282169332,\n",
       " 10.207695309384766,\n",
       " 10.207554339402359,\n",
       " 10.207413372222057,\n",
       " 10.207272407843812,\n",
       " 10.20713144626756,\n",
       " 10.206990487493242,\n",
       " 10.206849531520808,\n",
       " 10.206708578350204,\n",
       " 10.206567627981366,\n",
       " 10.206426680414253,\n",
       " 10.206285735648793,\n",
       " 10.206144793684944,\n",
       " 10.206003854522638,\n",
       " 10.205862918161829,\n",
       " 10.205721984602459,\n",
       " 10.205581053844467,\n",
       " 10.205440125887803,\n",
       " 10.205299200732407,\n",
       " 10.205158278378228,\n",
       " 10.205017358825206,\n",
       " 10.20487644207329,\n",
       " 10.204735528122422,\n",
       " 10.204594616972548,\n",
       " 10.204453708623603,\n",
       " 10.204312803075547,\n",
       " 10.204171900328314,\n",
       " 10.20403100038185,\n",
       " 10.203890103236096,\n",
       " 10.203749208891002,\n",
       " 10.203608317346513,\n",
       " 10.20346742860257,\n",
       " 10.203326542659118,\n",
       " 10.203185659516098,\n",
       " 10.20304477917346,\n",
       " 10.202903901631151,\n",
       " 10.202763026889105,\n",
       " 10.202622154947273,\n",
       " 10.202481285805597,\n",
       " 10.202340419464024,\n",
       " 10.202199555922498,\n",
       " 10.202058695180959,\n",
       " 10.201917837239353,\n",
       " 10.201776982097629,\n",
       " 10.201636129755732,\n",
       " 10.201495280213596,\n",
       " 10.201354433471172,\n",
       " 10.201213589528411,\n",
       " 10.201072748385245,\n",
       " 10.200931910041623,\n",
       " 10.200791074497497,\n",
       " 10.200650241752799,\n",
       " 10.200509411807476,\n",
       " 10.200368584661485,\n",
       " 10.200227760314752,\n",
       " 10.200086938767232,\n",
       " 10.19994612001887,\n",
       " 10.199805304069606,\n",
       " 10.199664490919387,\n",
       " 10.199523680568154,\n",
       " 10.199382873015859,\n",
       " 10.199242068262434,\n",
       " 10.199101266307837,\n",
       " 10.198960467152,\n",
       " 10.19881967079488,\n",
       " 10.198678877236409,\n",
       " 10.198538086476539,\n",
       " 10.198397298515214,\n",
       " 10.198256513352376,\n",
       " 10.198115730987968,\n",
       " 10.19797495142194,\n",
       " 10.19783417465423,\n",
       " 10.197693400684786,\n",
       " 10.197552629513552,\n",
       " 10.197411861140473,\n",
       " 10.197271095565492,\n",
       " 10.197130332788555,\n",
       " 10.196989572809603,\n",
       " 10.196848815628584,\n",
       " 10.196708061245442,\n",
       " 10.196567309660114,\n",
       " 10.196426560872556,\n",
       " 10.19628581488271,\n",
       " 10.196145071690513,\n",
       " 10.196004331295912,\n",
       " 10.195863593698858,\n",
       " 10.195722858899288,\n",
       " 10.195582126897152,\n",
       " 10.19544139769239,\n",
       " 10.195300671284945,\n",
       " 10.19515994767477,\n",
       " 10.1950192268618,\n",
       " 10.194878508845983,\n",
       " 10.194737793627262,\n",
       " 10.194597081205586,\n",
       " 10.194456371580896,\n",
       " 10.194315664753132,\n",
       " 10.194174960722249,\n",
       " 10.194034259488182,\n",
       " 10.193893561050885,\n",
       " 10.193752865410287,\n",
       " 10.19361217256635,\n",
       " 10.193471482519005,\n",
       " 10.193330795268203,\n",
       " 10.193190110813886,\n",
       " 10.193049429156003,\n",
       " 10.19290875029449,\n",
       " 10.1927680742293,\n",
       " 10.192627400960374,\n",
       " 10.192486730487651,\n",
       " 10.192346062811083,\n",
       " 10.192205397930612,\n",
       " 10.192064735846177,\n",
       " 10.191924076557736,\n",
       " 10.191783420065224,\n",
       " 10.191642766368584,\n",
       " 10.191502115467765,\n",
       " 10.191361467362707,\n",
       " 10.191220822053356,\n",
       " 10.19108017953966,\n",
       " 10.190939539821565,\n",
       " 10.190798902899004,\n",
       " 10.190658268771932,\n",
       " 10.190517637440289,\n",
       " 10.190377008904019,\n",
       " 10.190236383163066,\n",
       " 10.190095760217382,\n",
       " 10.189955140066903,\n",
       " 10.189814522711577,\n",
       " 10.189673908151345,\n",
       " 10.189533296386156,\n",
       " 10.189392687415951,\n",
       " 10.189252081240681,\n",
       " 10.189111477860278,\n",
       " 10.188970877274702,\n",
       " 10.188830279483883,\n",
       " 10.188689684487775,\n",
       " 10.188549092286319,\n",
       " 10.18840850287945,\n",
       " 10.188267916267137,\n",
       " 10.188127332449303,\n",
       " 10.187986751425898,\n",
       " 10.18784617319687,\n",
       " 10.187705597762156,\n",
       " 10.187565025121712,\n",
       " 10.187424455275467,\n",
       " 10.187283888223382,\n",
       " 10.187143323965389,\n",
       " 10.18700276250144,\n",
       " 10.18686220383148,\n",
       " 10.186721647955444,\n",
       " 10.186581094873285,\n",
       " 10.186440544584944,\n",
       " 10.186299997090368,\n",
       " 10.186159452389496,\n",
       " 10.186018910482282,\n",
       " 10.185878371368663,\n",
       " 10.185737835048586,\n",
       " 10.185597301521996,\n",
       " 10.185456770788829,\n",
       " 10.185316242849042,\n",
       " 10.185175717702576,\n",
       " 10.185035195349373,\n",
       " 10.18489467578938,\n",
       " 10.184754159022535,\n",
       " 10.184613645048785,\n",
       " 10.184473133868083,\n",
       " 10.184332625480366,\n",
       " 10.184192119885578,\n",
       " 10.184051617083663,\n",
       " 10.183911117074574,\n",
       " 10.183770619858242,\n",
       " 10.183630125434627,\n",
       " 10.18348963380366,\n",
       " 10.183349144965286,\n",
       " 10.183208658919462,\n",
       " 10.183068175666122,\n",
       " 10.18292769520521,\n",
       " 10.182787217536676,\n",
       " 10.182646742660461,\n",
       " 10.182506270576512,\n",
       " 10.182365801284767,\n",
       " 10.182225334785185,\n",
       " 10.182084871077697,\n",
       " 10.181944410162247,\n",
       " 10.181803952038788,\n",
       " 10.18166349670726,\n",
       " 10.181523044167603,\n",
       " 10.181382594419775,\n",
       " 10.181242147463704,\n",
       " 10.18110170329935,\n",
       " 10.18096126192665,\n",
       " 10.180820823345542,\n",
       " 10.180680387555983,\n",
       " 10.180539954557906,\n",
       " 10.180399524351262,\n",
       " 10.180259096935997,\n",
       " 10.180118672312053,\n",
       " 10.179978250479376,\n",
       " 10.179837831437908,\n",
       " 10.179697415187592,\n",
       " 10.17955700172838,\n",
       " 10.179416591060207,\n",
       " 10.179276183183026,\n",
       " 10.179135778096775,\n",
       " 10.178995375801401,\n",
       " 10.178854976296856,\n",
       " 10.178714579583069,\n",
       " 10.178574185659997,\n",
       " 10.178433794527574,\n",
       " 10.178293406185757,\n",
       " 10.17815302063448,\n",
       " 10.178012637873698,\n",
       " 10.177872257903347,\n",
       " 10.177731880723375,\n",
       " 10.177591506333725,\n",
       " 10.177451134734335,\n",
       " 10.177310765925167,\n",
       " 10.177170399906151,\n",
       " 10.177030036677237,\n",
       " 10.176889676238364,\n",
       " 10.176749318589485,\n",
       " 10.176608963730539,\n",
       " 10.176468611661473,\n",
       " 10.176328262382228,\n",
       " 10.176187915892754,\n",
       " 10.176047572192992,\n",
       " 10.175907231282883,\n",
       " 10.175766893162377,\n",
       " 10.175626557831423,\n",
       " 10.175486225289953,\n",
       " 10.175345895537925,\n",
       " 10.175205568575272,\n",
       " 10.175065244401942,\n",
       " 10.174924923017887,\n",
       " 10.174784604423035,\n",
       " 10.174644288617353,\n",
       " 10.174503975600768,\n",
       " 10.17436366537323,\n",
       " 10.174223357934682,\n",
       " 10.174083053285072,\n",
       " 10.173942751424345,\n",
       " 10.173802452352437,\n",
       " 10.173662156069307,\n",
       " 10.173521862574887,\n",
       " 10.17338157186913,\n",
       " 10.173241283951974,\n",
       " 10.173100998823362,\n",
       " 10.17296071648325,\n",
       " 10.17282043693157,\n",
       " 10.172680160168277,\n",
       " 10.172539886193306,\n",
       " 10.172399615006611,\n",
       " 10.17225934660813,\n",
       " 10.172119080997804,\n",
       " 10.17197881817559,\n",
       " 10.171838558141424,\n",
       " 10.171698300895246,\n",
       " 10.171558046437013,\n",
       " 10.171417794766665,\n",
       " 10.171277545884138,\n",
       " 10.171137299789386,\n",
       " 10.170997056482353,\n",
       " 10.170856815962976,\n",
       " 10.17071657823121,\n",
       " 10.170576343286996,\n",
       " 10.170436111130273,\n",
       " 10.170295881760993,\n",
       " 10.170155655179094,\n",
       " 10.17001543138453,\n",
       " 10.169875210377239,\n",
       " 10.16973499215716,\n",
       " 10.16959477672425,\n",
       " 10.169454564078439,\n",
       " 10.16931435421969,\n",
       " 10.169174147147935,\n",
       " 10.16903394286312,\n",
       " 10.168893741365185,\n",
       " 10.168753542654091,\n",
       " 10.168613346729767,\n",
       " 10.168473153592162,\n",
       " 10.168332963241221,\n",
       " 10.168192775676891,\n",
       " 10.168052590899114,\n",
       " 10.167912408907837,\n",
       " 10.167772229703,\n",
       " 10.167632053284548,\n",
       " 10.16749187965243,\n",
       " 10.167351708806589,\n",
       " 10.167211540746967,\n",
       " 10.167071375473515,\n",
       " 10.166931212986174,\n",
       " 10.166791053284886,\n",
       " 10.166650896369596,\n",
       " 10.166510742240254,\n",
       " 10.1663705908968,\n",
       " 10.166230442339176,\n",
       " 10.166090296567337,\n",
       " 10.165950153581212,\n",
       " 10.16581001338076,\n",
       " 10.165669875965921,\n",
       " 10.165529741336632,\n",
       " 10.165389609492852,\n",
       " 10.165249480434516,\n",
       " 10.165109354161567,\n",
       " 10.164969230673954,\n",
       " 10.164829109971622,\n",
       " 10.164688992054515,\n",
       " 10.164548876922577,\n",
       " 10.164408764575755,\n",
       " 10.164268655013988,\n",
       " 10.164128548237228,\n",
       " 10.163988444245412,\n",
       " 10.16384834303849,\n",
       " 10.163708244616405,\n",
       " 10.163568148979095,\n",
       " 10.16342805612652,\n",
       " 10.163287966058617,\n",
       " 10.163147878775325,\n",
       " 10.16300779427659,\n",
       " 10.162867712562361,\n",
       " 10.162727633632587,\n",
       " 10.162587557487205,\n",
       " 10.16244748412616,\n",
       " 10.162307413549403,\n",
       " 10.162167345756865,\n",
       " 10.162027280748509,\n",
       " 10.161887218524265,\n",
       " 10.161747159084086,\n",
       " 10.161607102427912,\n",
       " 10.161467048555687,\n",
       " 10.161326997467365,\n",
       " 10.161186949162877,\n",
       " 10.161046903642182,\n",
       " 10.16090686090521,\n",
       " 10.160766820951915,\n",
       " 10.160626783782236,\n",
       " 10.160486749396126,\n",
       " 10.160346717793523,\n",
       " 10.160206688974377,\n",
       " 10.160066662938624,\n",
       " 10.159926639686216,\n",
       " 10.159786619217096,\n",
       " 10.159646601531204,\n",
       " 10.159506586628494,\n",
       " 10.159366574508903,\n",
       " 10.159226565172375,\n",
       " 10.159086558618863,\n",
       " 10.158946554848304,\n",
       " 10.158806553860646,\n",
       " 10.158666555655834,\n",
       " 10.158526560233813,\n",
       " 10.158386567594524,\n",
       " 10.158246577737913,\n",
       " 10.158106590663923,\n",
       " 10.157966606372506,\n",
       " 10.1578266248636,\n",
       " 10.157686646137149,\n",
       " 10.157546670193105,\n",
       " 10.157406697031407,\n",
       " 10.157266726652004,\n",
       " 10.157126759054831,\n",
       " 10.156986794239842,\n",
       " 10.156846832206982,\n",
       " 10.156706872956187,\n",
       " 10.156566916487408,\n",
       " 10.156426962800593,\n",
       " 10.156287011895683,\n",
       " 10.156147063772618,\n",
       " 10.156007118431347,\n",
       " 10.155867175871819,\n",
       " 10.15572723609397,\n",
       " 10.155587299097752,\n",
       " 10.155447364883106,\n",
       " 10.155307433449979,\n",
       " 10.155167504798314,\n",
       " 10.155027578928053,\n",
       " 10.154887655839147,\n",
       " 10.154747735531537,\n",
       " 10.154607818005166,\n",
       " 10.154467903259981,\n",
       " 10.15432799129593,\n",
       " 10.154188082112949,\n",
       " 10.154048175710995,\n",
       " 10.15390827209,\n",
       " 10.15376837124992,\n",
       " 10.153628473190688,\n",
       " 10.153488577912256,\n",
       " 10.15334868541457,\n",
       " 10.153208795697573,\n",
       " 10.153068908761206,\n",
       " 10.15292902460542,\n",
       " 10.152789143230153,\n",
       " 10.152649264635356,\n",
       " 10.152509388820972,\n",
       " 10.152369515786944,\n",
       " 10.152229645533215]"
      ]
     },
     "execution_count": 173,
     "metadata": {},
     "output_type": "execute_result"
    }
   ],
   "source": [
    "cost_history"
   ]
  },
  {
   "cell_type": "code",
   "execution_count": 174,
   "metadata": {},
   "outputs": [
    {
     "data": {
      "image/png": "[encoded data removed]",
      "text/plain": [
       "<Figure size 432x288 with 1 Axes>"
      ]
     },
     "metadata": {
      "needs_background": "light"
     },
     "output_type": "display_data"
    }
   ],
   "source": [
    "plt.plot(X_array , y_array  , 'ro' , mec = 'k')\n",
    "plt.xlabel('MPG')\n",
    "plt.ylabel('Acceleration')\n",
    "plt.title('Best Fitted line in green color')\n",
    "plt.plot(X_arr[:,1] , np.dot(X_arr , theta) ,'green' , '-' )\n",
    "plt.show()"
   ]
  },
  {
   "cell_type": "markdown",
   "metadata": {},
   "source": [
    "**KNN Model**"
   ]
  },
  {
   "cell_type": "code",
   "execution_count": 175,
   "metadata": {},
   "outputs": [],
   "source": [
    "# Exercise 1 to 8"
   ]
  },
  {
   "cell_type": "code",
   "execution_count": 176,
   "metadata": {},
   "outputs": [
    {
     "data": {
      "application/javascript": [
       "\n",
       "        if (window._pyforest_update_imports_cell) { window._pyforest_update_imports_cell('import pandas as pd\\nimport numpy as np'); }\n",
       "    "
      ],
      "text/plain": [
       "<IPython.core.display.Javascript object>"
      ]
     },
     "metadata": {},
     "output_type": "display_data"
    }
   ],
   "source": [
    "haberman = pd.read_csv('haberman.data' , names= [ 'age' , 'year' , 'number of nodes' , 'survival status'])"
   ]
  },
  {
   "cell_type": "code",
   "execution_count": 177,
   "metadata": {},
   "outputs": [
    {
     "data": {
      "text/html": [
       "<div>\n",
       "<style scoped>\n",
       "    .dataframe tbody tr th:only-of-type {\n",
       "        vertical-align: middle;\n",
       "    }\n",
       "\n",
       "    .dataframe tbody tr th {\n",
       "        vertical-align: top;\n",
       "    }\n",
       "\n",
       "    .dataframe thead th {\n",
       "        text-align: right;\n",
       "    }\n",
       "</style>\n",
       "<table border=\"1\" class=\"dataframe\">\n",
       "  <thead>\n",
       "    <tr style=\"text-align: right;\">\n",
       "      <th></th>\n",
       "      <th>age</th>\n",
       "      <th>year</th>\n",
       "      <th>number of nodes</th>\n",
       "      <th>survival status</th>\n",
       "    </tr>\n",
       "  </thead>\n",
       "  <tbody>\n",
       "    <tr>\n",
       "      <th>0</th>\n",
       "      <td>30</td>\n",
       "      <td>64</td>\n",
       "      <td>1</td>\n",
       "      <td>1</td>\n",
       "    </tr>\n",
       "    <tr>\n",
       "      <th>1</th>\n",
       "      <td>30</td>\n",
       "      <td>62</td>\n",
       "      <td>3</td>\n",
       "      <td>1</td>\n",
       "    </tr>\n",
       "    <tr>\n",
       "      <th>2</th>\n",
       "      <td>30</td>\n",
       "      <td>65</td>\n",
       "      <td>0</td>\n",
       "      <td>1</td>\n",
       "    </tr>\n",
       "    <tr>\n",
       "      <th>3</th>\n",
       "      <td>31</td>\n",
       "      <td>59</td>\n",
       "      <td>2</td>\n",
       "      <td>1</td>\n",
       "    </tr>\n",
       "    <tr>\n",
       "      <th>4</th>\n",
       "      <td>31</td>\n",
       "      <td>65</td>\n",
       "      <td>4</td>\n",
       "      <td>1</td>\n",
       "    </tr>\n",
       "  </tbody>\n",
       "</table>\n",
       "</div>"
      ],
      "text/plain": [
       "   age  year  number of nodes  survival status\n",
       "0   30    64                1                1\n",
       "1   30    62                3                1\n",
       "2   30    65                0                1\n",
       "3   31    59                2                1\n",
       "4   31    65                4                1"
      ]
     },
     "execution_count": 177,
     "metadata": {},
     "output_type": "execute_result"
    }
   ],
   "source": [
    "haberman.head()"
   ]
  },
  {
   "cell_type": "code",
   "execution_count": 178,
   "metadata": {},
   "outputs": [
    {
     "name": "stdout",
     "output_type": "stream",
     "text": [
      "<class 'pandas.core.frame.DataFrame'>\n",
      "RangeIndex: 306 entries, 0 to 305\n",
      "Data columns (total 4 columns):\n",
      "age                306 non-null int64\n",
      "year               306 non-null int64\n",
      "number of nodes    306 non-null int64\n",
      "survival status    306 non-null int64\n",
      "dtypes: int64(4)\n",
      "memory usage: 9.7 KB\n"
     ]
    }
   ],
   "source": [
    "haberman.info()"
   ]
  },
  {
   "cell_type": "code",
   "execution_count": 179,
   "metadata": {},
   "outputs": [],
   "source": [
    "from sklearn.metrics import classification_report , confusion_matrix , accuracy_score"
   ]
  },
  {
   "cell_type": "code",
   "execution_count": 180,
   "metadata": {},
   "outputs": [],
   "source": [
    "from sklearn.neighbors import KNeighborsClassifier"
   ]
  },
  {
   "cell_type": "code",
   "execution_count": 181,
   "metadata": {},
   "outputs": [],
   "source": [
    "X = haberman.drop('survival status' , axis = 1)"
   ]
  },
  {
   "cell_type": "code",
   "execution_count": 182,
   "metadata": {},
   "outputs": [],
   "source": [
    "y = haberman['survival status']"
   ]
  },
  {
   "cell_type": "code",
   "execution_count": 183,
   "metadata": {},
   "outputs": [],
   "source": [
    "X_train, X_test, y_train, y_test = train_test_split(X, y, test_size=0.20, random_state=42)"
   ]
  },
  {
   "cell_type": "code",
   "execution_count": 184,
   "metadata": {},
   "outputs": [
    {
     "data": {
      "text/html": [
       "<div>\n",
       "<style scoped>\n",
       "    .dataframe tbody tr th:only-of-type {\n",
       "        vertical-align: middle;\n",
       "    }\n",
       "\n",
       "    .dataframe tbody tr th {\n",
       "        vertical-align: top;\n",
       "    }\n",
       "\n",
       "    .dataframe thead th {\n",
       "        text-align: right;\n",
       "    }\n",
       "</style>\n",
       "<table border=\"1\" class=\"dataframe\">\n",
       "  <thead>\n",
       "    <tr style=\"text-align: right;\">\n",
       "      <th></th>\n",
       "      <th>age</th>\n",
       "      <th>year</th>\n",
       "      <th>number of nodes</th>\n",
       "    </tr>\n",
       "  </thead>\n",
       "  <tbody>\n",
       "    <tr>\n",
       "      <th>213</th>\n",
       "      <td>58</td>\n",
       "      <td>58</td>\n",
       "      <td>3</td>\n",
       "    </tr>\n",
       "    <tr>\n",
       "      <th>244</th>\n",
       "      <td>62</td>\n",
       "      <td>58</td>\n",
       "      <td>0</td>\n",
       "    </tr>\n",
       "    <tr>\n",
       "      <th>75</th>\n",
       "      <td>44</td>\n",
       "      <td>63</td>\n",
       "      <td>19</td>\n",
       "    </tr>\n",
       "    <tr>\n",
       "      <th>179</th>\n",
       "      <td>54</td>\n",
       "      <td>62</td>\n",
       "      <td>0</td>\n",
       "    </tr>\n",
       "    <tr>\n",
       "      <th>59</th>\n",
       "      <td>42</td>\n",
       "      <td>62</td>\n",
       "      <td>20</td>\n",
       "    </tr>\n",
       "    <tr>\n",
       "      <th>...</th>\n",
       "      <td>...</td>\n",
       "      <td>...</td>\n",
       "      <td>...</td>\n",
       "    </tr>\n",
       "    <tr>\n",
       "      <th>188</th>\n",
       "      <td>55</td>\n",
       "      <td>69</td>\n",
       "      <td>22</td>\n",
       "    </tr>\n",
       "    <tr>\n",
       "      <th>71</th>\n",
       "      <td>43</td>\n",
       "      <td>65</td>\n",
       "      <td>0</td>\n",
       "    </tr>\n",
       "    <tr>\n",
       "      <th>106</th>\n",
       "      <td>47</td>\n",
       "      <td>66</td>\n",
       "      <td>12</td>\n",
       "    </tr>\n",
       "    <tr>\n",
       "      <th>270</th>\n",
       "      <td>66</td>\n",
       "      <td>58</td>\n",
       "      <td>0</td>\n",
       "    </tr>\n",
       "    <tr>\n",
       "      <th>102</th>\n",
       "      <td>47</td>\n",
       "      <td>67</td>\n",
       "      <td>0</td>\n",
       "    </tr>\n",
       "  </tbody>\n",
       "</table>\n",
       "<p>244 rows × 3 columns</p>\n",
       "</div>"
      ],
      "text/plain": [
       "     age  year  number of nodes\n",
       "213   58    58                3\n",
       "244   62    58                0\n",
       "75    44    63               19\n",
       "179   54    62                0\n",
       "59    42    62               20\n",
       "..   ...   ...              ...\n",
       "188   55    69               22\n",
       "71    43    65                0\n",
       "106   47    66               12\n",
       "270   66    58                0\n",
       "102   47    67                0\n",
       "\n",
       "[244 rows x 3 columns]"
      ]
     },
     "execution_count": 184,
     "metadata": {},
     "output_type": "execute_result"
    }
   ],
   "source": [
    "X_train\n"
   ]
  },
  {
   "cell_type": "code",
   "execution_count": 185,
   "metadata": {},
   "outputs": [
    {
     "name": "stdout",
     "output_type": "stream",
     "text": [
      "1 0.6451612903225806\n",
      "2 0.7419354838709677\n",
      "3 0.7258064516129032\n",
      "4 0.7096774193548387\n",
      "5 0.6612903225806451\n",
      "6 0.7096774193548387\n",
      "7 0.7096774193548387\n",
      "8 0.7258064516129032\n",
      "9 0.7096774193548387\n",
      "10 0.7096774193548387\n",
      "11 0.7096774193548387\n",
      "12 0.7096774193548387\n",
      "13 0.7096774193548387\n",
      "14 0.7096774193548387\n",
      "15 0.7096774193548387\n",
      "16 0.7096774193548387\n",
      "17 0.7096774193548387\n",
      "18 0.7096774193548387\n",
      "19 0.7096774193548387\n",
      "20 0.7258064516129032\n",
      "21 0.6935483870967742\n",
      "22 0.7096774193548387\n",
      "23 0.7096774193548387\n",
      "24 0.7419354838709677\n",
      "25 0.7419354838709677\n",
      "26 0.7419354838709677\n",
      "27 0.7419354838709677\n",
      "28 0.7419354838709677\n",
      "29 0.7419354838709677\n",
      "30 0.7419354838709677\n",
      "31 0.7419354838709677\n",
      "32 0.7419354838709677\n",
      "33 0.7419354838709677\n",
      "34 0.7419354838709677\n",
      "35 0.7419354838709677\n",
      "36 0.7419354838709677\n",
      "37 0.7419354838709677\n",
      "38 0.7258064516129032\n",
      "39 0.7419354838709677\n",
      "40 0.7096774193548387\n",
      "41 0.7096774193548387\n",
      "42 0.7096774193548387\n",
      "43 0.7096774193548387\n",
      "44 0.6935483870967742\n",
      "45 0.6935483870967742\n",
      "46 0.6935483870967742\n",
      "47 0.6935483870967742\n",
      "48 0.6935483870967742\n",
      "49 0.6935483870967742\n",
      "50 0.6935483870967742\n",
      "51 0.6935483870967742\n",
      "52 0.6935483870967742\n",
      "53 0.6935483870967742\n",
      "54 0.6935483870967742\n",
      "55 0.6935483870967742\n",
      "56 0.6935483870967742\n",
      "57 0.6935483870967742\n",
      "58 0.6935483870967742\n",
      "59 0.6935483870967742\n",
      "60 0.6935483870967742\n",
      "61 0.6935483870967742\n",
      "62 0.6935483870967742\n",
      "63 0.6935483870967742\n",
      "64 0.6935483870967742\n",
      "65 0.6935483870967742\n",
      "66 0.6935483870967742\n",
      "67 0.6935483870967742\n",
      "68 0.7096774193548387\n",
      "69 0.7096774193548387\n",
      "70 0.7096774193548387\n",
      "71 0.7096774193548387\n",
      "72 0.7096774193548387\n",
      "73 0.7096774193548387\n",
      "74 0.7096774193548387\n",
      "75 0.7096774193548387\n",
      "76 0.7096774193548387\n",
      "77 0.7096774193548387\n",
      "78 0.7096774193548387\n",
      "79 0.7096774193548387\n",
      "80 0.7096774193548387\n",
      "81 0.7096774193548387\n",
      "82 0.7096774193548387\n",
      "83 0.7096774193548387\n",
      "84 0.7096774193548387\n",
      "85 0.7096774193548387\n",
      "86 0.7096774193548387\n",
      "87 0.7096774193548387\n",
      "88 0.7096774193548387\n",
      "89 0.7096774193548387\n",
      "90 0.7096774193548387\n",
      "91 0.7096774193548387\n",
      "92 0.7096774193548387\n",
      "93 0.7096774193548387\n",
      "94 0.7096774193548387\n",
      "95 0.7096774193548387\n",
      "96 0.7096774193548387\n",
      "97 0.7096774193548387\n",
      "98 0.7096774193548387\n",
      "99 0.7096774193548387\n"
     ]
    }
   ],
   "source": [
    "for k in range(1 , 100):\n",
    "    knn = KNeighborsClassifier(k)\n",
    "    knn.fit(X_train , y_train)\n",
    "    y_pred = knn.predict(X_test)\n",
    "    print(k , accuracy_score(y_test , y_pred))"
   ]
  },
  {
   "cell_type": "markdown",
   "metadata": {},
   "source": [
    "More accuracy on k = 25 , so using that K value to build main model"
   ]
  },
  {
   "cell_type": "code",
   "execution_count": 186,
   "metadata": {},
   "outputs": [],
   "source": [
    "knn = KNeighborsClassifier(25)\n",
    "knn.fit(X_train , y_train)\n",
    "y_pred = knn.predict(X_test)"
   ]
  },
  {
   "cell_type": "code",
   "execution_count": 187,
   "metadata": {},
   "outputs": [
    {
     "data": {
      "text/plain": [
       "0.7419354838709677"
      ]
     },
     "execution_count": 187,
     "metadata": {},
     "output_type": "execute_result"
    }
   ],
   "source": [
    "accuracy_score(y_test , y_pred)"
   ]
  },
  {
   "cell_type": "code",
   "execution_count": 188,
   "metadata": {},
   "outputs": [
    {
     "name": "stdout",
     "output_type": "stream",
     "text": [
      "              precision    recall  f1-score   support\n",
      "\n",
      "           1       0.75      0.95      0.84        44\n",
      "           2       0.67      0.22      0.33        18\n",
      "\n",
      "    accuracy                           0.74        62\n",
      "   macro avg       0.71      0.59      0.59        62\n",
      "weighted avg       0.73      0.74      0.69        62\n",
      "\n"
     ]
    }
   ],
   "source": [
    "print(classification_report(y_test , y_pred))"
   ]
  },
  {
   "cell_type": "code",
   "execution_count": 189,
   "metadata": {},
   "outputs": [
    {
     "name": "stdout",
     "output_type": "stream",
     "text": [
      "[[42  2]\n",
      " [14  4]]\n"
     ]
    }
   ],
   "source": [
    "print(confusion_matrix(y_test , y_pred))"
   ]
  }
 ],
 "metadata": {
  "colab": {
   "collapsed_sections": [],
   "name": "ai_ml_l1.ipynb",
   "provenance": []
  },
  "kernelspec": {
   "display_name": "Python 3",
   "language": "python",
   "name": "python3"
  },
  "language_info": {
   "codemirror_mode": {
    "name": "ipython",
    "version": 3
   },
   "file_extension": ".py",
   "mimetype": "text/x-python",
   "name": "python",
   "nbconvert_exporter": "python",
   "pygments_lexer": "ipython3",
   "version": "3.7.6"
  }
 },
 "nbformat": 4,
 "nbformat_minor": 1
}
